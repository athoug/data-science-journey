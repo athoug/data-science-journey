{
 "cells": [
  {
   "cell_type": "code",
   "execution_count": 5,
   "id": "bbc95ff5",
   "metadata": {},
   "outputs": [],
   "source": [
    "import pandas as pd\n",
    "import plotly.express as px"
   ]
  },
  {
   "cell_type": "code",
   "execution_count": 11,
   "id": "9995b6b0",
   "metadata": {},
   "outputs": [
    {
     "data": {
      "text/html": [
       "<div>\n",
       "<style scoped>\n",
       "    .dataframe tbody tr th:only-of-type {\n",
       "        vertical-align: middle;\n",
       "    }\n",
       "\n",
       "    .dataframe tbody tr th {\n",
       "        vertical-align: top;\n",
       "    }\n",
       "\n",
       "    .dataframe thead th {\n",
       "        text-align: right;\n",
       "    }\n",
       "</style>\n",
       "<table border=\"1\" class=\"dataframe\">\n",
       "  <thead>\n",
       "    <tr style=\"text-align: right;\">\n",
       "      <th></th>\n",
       "      <th>rank</th>\n",
       "      <th>movie_id</th>\n",
       "      <th>title</th>\n",
       "      <th>year</th>\n",
       "      <th>link</th>\n",
       "      <th>imbd_votes</th>\n",
       "      <th>imbd_rating</th>\n",
       "      <th>certificate</th>\n",
       "      <th>duration</th>\n",
       "      <th>genre</th>\n",
       "      <th>...</th>\n",
       "      <th>director_id</th>\n",
       "      <th>director_name</th>\n",
       "      <th>writer_id</th>\n",
       "      <th>writer_name</th>\n",
       "      <th>storyline</th>\n",
       "      <th>user_id</th>\n",
       "      <th>user_name</th>\n",
       "      <th>review_id</th>\n",
       "      <th>review_title</th>\n",
       "      <th>review_content</th>\n",
       "    </tr>\n",
       "  </thead>\n",
       "  <tbody>\n",
       "    <tr>\n",
       "      <th>0</th>\n",
       "      <td>1</td>\n",
       "      <td>tt0111161</td>\n",
       "      <td>The Shawshank Redemption</td>\n",
       "      <td>1994</td>\n",
       "      <td>https://www.imdb.com/title/tt0111161</td>\n",
       "      <td>2,711,075</td>\n",
       "      <td>9.3</td>\n",
       "      <td>R</td>\n",
       "      <td>2h 22m</td>\n",
       "      <td>Drama</td>\n",
       "      <td>...</td>\n",
       "      <td>nm0001104</td>\n",
       "      <td>Frank Darabont</td>\n",
       "      <td>nm0000175,nm0001104</td>\n",
       "      <td>Stephen King,Frank Darabont</td>\n",
       "      <td>Over the course of several years, two convicts...</td>\n",
       "      <td>ur16161013,ur15311310,ur0265899,ur16117882,ur1...</td>\n",
       "      <td>hitchcockthelegend,Sleepin_Dragon,EyeDunno,ale...</td>\n",
       "      <td>rw2284594,rw6606154,rw1221355,rw1822343,rw1288...</td>\n",
       "      <td>Some birds aren't meant to be caged.,An incred...</td>\n",
       "      <td>The Shawshank Redemption is written and direct...</td>\n",
       "    </tr>\n",
       "    <tr>\n",
       "      <th>1</th>\n",
       "      <td>2</td>\n",
       "      <td>tt0068646</td>\n",
       "      <td>The Godfather</td>\n",
       "      <td>1972</td>\n",
       "      <td>https://www.imdb.com/title/tt0068646</td>\n",
       "      <td>1,882,829</td>\n",
       "      <td>9.2</td>\n",
       "      <td>R</td>\n",
       "      <td>2h 55m</td>\n",
       "      <td>Crime,Drama</td>\n",
       "      <td>...</td>\n",
       "      <td>nm0000338</td>\n",
       "      <td>Francis Ford Coppola</td>\n",
       "      <td>nm0701374,nm0000338</td>\n",
       "      <td>Mario Puzo,Francis Ford Coppola</td>\n",
       "      <td>The aging patriarch of an organized crime dyna...</td>\n",
       "      <td>ur24740649,ur86182727,ur15794099,ur15311310,ur...</td>\n",
       "      <td>CalRhys,andrewburgereviews,gogoschka-1,Sleepin...</td>\n",
       "      <td>rw3038370,rw4756923,rw4059579,rw6568526,rw1897...</td>\n",
       "      <td>The Pinnacle Of Flawless Films!,An offer so go...</td>\n",
       "      <td>'The Godfather' is the pinnacle of flawless fi...</td>\n",
       "    </tr>\n",
       "    <tr>\n",
       "      <th>2</th>\n",
       "      <td>3</td>\n",
       "      <td>tt0468569</td>\n",
       "      <td>The Dark Knight</td>\n",
       "      <td>2008</td>\n",
       "      <td>https://www.imdb.com/title/tt0468569</td>\n",
       "      <td>2,684,051</td>\n",
       "      <td>9.0</td>\n",
       "      <td>PG-13</td>\n",
       "      <td>2h 32m</td>\n",
       "      <td>Action,Crime,Drama</td>\n",
       "      <td>...</td>\n",
       "      <td>nm0634240</td>\n",
       "      <td>Christopher Nolan</td>\n",
       "      <td>tt0468569,nm0634300,nm0634240,nm0275286,tt0468569</td>\n",
       "      <td>Writers,Jonathan Nolan,Christopher Nolan,David...</td>\n",
       "      <td>When the menace known as the Joker wreaks havo...</td>\n",
       "      <td>ur87850731,ur1293485,ur129557514,ur12449122,ur...</td>\n",
       "      <td>MrHeraclius,Smells_Like_Cheese,dseferaj,little...</td>\n",
       "      <td>rw5478826,rw1914442,rw6606026,rw1917099,rw5170...</td>\n",
       "      <td>The Dark Knight,The Batman of our dreams! So m...</td>\n",
       "      <td>Confidently directed, dark, brooding, and pack...</td>\n",
       "    </tr>\n",
       "    <tr>\n",
       "      <th>3</th>\n",
       "      <td>4</td>\n",
       "      <td>tt0071562</td>\n",
       "      <td>The Godfather Part II</td>\n",
       "      <td>1974</td>\n",
       "      <td>https://www.imdb.com/title/tt0071562</td>\n",
       "      <td>1,285,350</td>\n",
       "      <td>9.0</td>\n",
       "      <td>R</td>\n",
       "      <td>3h 22m</td>\n",
       "      <td>Crime,Drama</td>\n",
       "      <td>...</td>\n",
       "      <td>nm0000338</td>\n",
       "      <td>Francis Ford Coppola</td>\n",
       "      <td>nm0000338,nm0701374</td>\n",
       "      <td>Francis Ford Coppola,Mario Puzo</td>\n",
       "      <td>The early life and career of Vito Corleone in ...</td>\n",
       "      <td>ur0176092,ur0688559,ur92260614,ur0200644,ur117...</td>\n",
       "      <td>Nazi_Fighter_David,tfrizzell,umunir-36959,DanB...</td>\n",
       "      <td>rw0135607,rw0135487,rw5049900,rw0135526,rw0135...</td>\n",
       "      <td>Breathtaking in its scope and tragic grandeur....</td>\n",
       "      <td>Coppola's masterpiece is rivaled only by \"The ...</td>\n",
       "    </tr>\n",
       "    <tr>\n",
       "      <th>4</th>\n",
       "      <td>5</td>\n",
       "      <td>tt0050083</td>\n",
       "      <td>12 Angry Men</td>\n",
       "      <td>1957</td>\n",
       "      <td>https://www.imdb.com/title/tt0050083</td>\n",
       "      <td>800,954</td>\n",
       "      <td>9.0</td>\n",
       "      <td>Approved</td>\n",
       "      <td>1h 36m</td>\n",
       "      <td>Crime,Drama</td>\n",
       "      <td>...</td>\n",
       "      <td>nm0001486</td>\n",
       "      <td>Sidney Lumet</td>\n",
       "      <td>nm0741627</td>\n",
       "      <td>Reginald Rose</td>\n",
       "      <td>The jury in a New York City murder trial is fr...</td>\n",
       "      <td>ur1318549,ur0643062,ur0688559,ur20552756,ur945...</td>\n",
       "      <td>uds3,tedg,tfrizzell,TheLittleSongbird,henrique...</td>\n",
       "      <td>rw0060044,rw0060025,rw0060034,rw2262425,rw5448...</td>\n",
       "      <td>The over-used term \"classic movie\" really come...</td>\n",
       "      <td>This once-in-a-generation masterpiece simply h...</td>\n",
       "    </tr>\n",
       "  </tbody>\n",
       "</table>\n",
       "<p>5 rows × 22 columns</p>\n",
       "</div>"
      ],
      "text/plain": [
       "   rank   movie_id                     title  year  \\\n",
       "0     1  tt0111161  The Shawshank Redemption  1994   \n",
       "1     2  tt0068646             The Godfather  1972   \n",
       "2     3  tt0468569           The Dark Knight  2008   \n",
       "3     4  tt0071562     The Godfather Part II  1974   \n",
       "4     5  tt0050083              12 Angry Men  1957   \n",
       "\n",
       "                                   link imbd_votes  imbd_rating certificate  \\\n",
       "0  https://www.imdb.com/title/tt0111161  2,711,075          9.3           R   \n",
       "1  https://www.imdb.com/title/tt0068646  1,882,829          9.2           R   \n",
       "2  https://www.imdb.com/title/tt0468569  2,684,051          9.0       PG-13   \n",
       "3  https://www.imdb.com/title/tt0071562  1,285,350          9.0           R   \n",
       "4  https://www.imdb.com/title/tt0050083    800,954          9.0    Approved   \n",
       "\n",
       "  duration               genre  ... director_id         director_name  \\\n",
       "0   2h 22m               Drama  ...   nm0001104        Frank Darabont   \n",
       "1   2h 55m         Crime,Drama  ...   nm0000338  Francis Ford Coppola   \n",
       "2   2h 32m  Action,Crime,Drama  ...   nm0634240     Christopher Nolan   \n",
       "3   3h 22m         Crime,Drama  ...   nm0000338  Francis Ford Coppola   \n",
       "4   1h 36m         Crime,Drama  ...   nm0001486          Sidney Lumet   \n",
       "\n",
       "                                           writer_id  \\\n",
       "0                                nm0000175,nm0001104   \n",
       "1                                nm0701374,nm0000338   \n",
       "2  tt0468569,nm0634300,nm0634240,nm0275286,tt0468569   \n",
       "3                                nm0000338,nm0701374   \n",
       "4                                          nm0741627   \n",
       "\n",
       "                                         writer_name  \\\n",
       "0                        Stephen King,Frank Darabont   \n",
       "1                    Mario Puzo,Francis Ford Coppola   \n",
       "2  Writers,Jonathan Nolan,Christopher Nolan,David...   \n",
       "3                    Francis Ford Coppola,Mario Puzo   \n",
       "4                                      Reginald Rose   \n",
       "\n",
       "                                           storyline  \\\n",
       "0  Over the course of several years, two convicts...   \n",
       "1  The aging patriarch of an organized crime dyna...   \n",
       "2  When the menace known as the Joker wreaks havo...   \n",
       "3  The early life and career of Vito Corleone in ...   \n",
       "4  The jury in a New York City murder trial is fr...   \n",
       "\n",
       "                                             user_id  \\\n",
       "0  ur16161013,ur15311310,ur0265899,ur16117882,ur1...   \n",
       "1  ur24740649,ur86182727,ur15794099,ur15311310,ur...   \n",
       "2  ur87850731,ur1293485,ur129557514,ur12449122,ur...   \n",
       "3  ur0176092,ur0688559,ur92260614,ur0200644,ur117...   \n",
       "4  ur1318549,ur0643062,ur0688559,ur20552756,ur945...   \n",
       "\n",
       "                                           user_name  \\\n",
       "0  hitchcockthelegend,Sleepin_Dragon,EyeDunno,ale...   \n",
       "1  CalRhys,andrewburgereviews,gogoschka-1,Sleepin...   \n",
       "2  MrHeraclius,Smells_Like_Cheese,dseferaj,little...   \n",
       "3  Nazi_Fighter_David,tfrizzell,umunir-36959,DanB...   \n",
       "4  uds3,tedg,tfrizzell,TheLittleSongbird,henrique...   \n",
       "\n",
       "                                           review_id  \\\n",
       "0  rw2284594,rw6606154,rw1221355,rw1822343,rw1288...   \n",
       "1  rw3038370,rw4756923,rw4059579,rw6568526,rw1897...   \n",
       "2  rw5478826,rw1914442,rw6606026,rw1917099,rw5170...   \n",
       "3  rw0135607,rw0135487,rw5049900,rw0135526,rw0135...   \n",
       "4  rw0060044,rw0060025,rw0060034,rw2262425,rw5448...   \n",
       "\n",
       "                                        review_title  \\\n",
       "0  Some birds aren't meant to be caged.,An incred...   \n",
       "1  The Pinnacle Of Flawless Films!,An offer so go...   \n",
       "2  The Dark Knight,The Batman of our dreams! So m...   \n",
       "3  Breathtaking in its scope and tragic grandeur....   \n",
       "4  The over-used term \"classic movie\" really come...   \n",
       "\n",
       "                                      review_content  \n",
       "0  The Shawshank Redemption is written and direct...  \n",
       "1  'The Godfather' is the pinnacle of flawless fi...  \n",
       "2  Confidently directed, dark, brooding, and pack...  \n",
       "3  Coppola's masterpiece is rivaled only by \"The ...  \n",
       "4  This once-in-a-generation masterpiece simply h...  \n",
       "\n",
       "[5 rows x 22 columns]"
      ]
     },
     "execution_count": 11,
     "metadata": {},
     "output_type": "execute_result"
    }
   ],
   "source": [
    "df = pd.read_csv('./movies.csv')\n",
    "df.head()"
   ]
  },
  {
   "cell_type": "code",
   "execution_count": 12,
   "id": "17bc2fc8",
   "metadata": {},
   "outputs": [
    {
     "data": {
      "text/plain": [
       "Index(['rank', 'movie_id', 'title', 'year', 'link', 'imbd_votes',\n",
       "       'imbd_rating', 'certificate', 'duration', 'genre', 'cast_id',\n",
       "       'cast_name', 'director_id', 'director_name', 'writer_id', 'writer_name',\n",
       "       'storyline', 'user_id', 'user_name', 'review_id', 'review_title',\n",
       "       'review_content'],\n",
       "      dtype='object')"
      ]
     },
     "execution_count": 12,
     "metadata": {},
     "output_type": "execute_result"
    }
   ],
   "source": [
    "df.columns"
   ]
  },
  {
   "cell_type": "code",
   "execution_count": 16,
   "id": "710c12f5",
   "metadata": {},
   "outputs": [
    {
     "data": {
      "application/vnd.plotly.v1+json": {
       "config": {
        "plotlyServerURL": "https://plot.ly"
       },
       "data": [
        {
         "hovertemplate": "year=%{x}<br>duration=%{y}<extra></extra>",
         "legendgroup": "",
         "marker": {
          "color": "#636efa",
          "symbol": "circle"
         },
         "mode": "markers",
         "name": "",
         "orientation": "h",
         "showlegend": false,
         "type": "scatter",
         "x": [
          1994,
          1972,
          2008,
          1974,
          1957,
          1993,
          2003,
          1994,
          2001,
          1966,
          1994,
          1999,
          2002,
          2010,
          1980,
          1999,
          1990,
          1975,
          1995,
          1954,
          1946,
          1991,
          1998,
          2002,
          2014,
          1997,
          1999,
          1977,
          1991,
          1985,
          2001,
          2002,
          1960,
          2019,
          1994,
          1994,
          2000,
          1998,
          2006,
          1995,
          2006,
          2014,
          1942,
          1988,
          1962,
          2011,
          1936,
          1968,
          1988,
          1954,
          1979,
          1931,
          1979,
          2000,
          2012,
          1981,
          2008,
          2006,
          1950,
          1957,
          1980,
          1940,
          2018,
          1957,
          1986,
          2018,
          1999,
          1964,
          2012,
          2003,
          2009,
          1984,
          2017,
          1995,
          2019,
          1995,
          1981,
          2019,
          1997,
          1984,
          1997,
          2016,
          1952,
          2009,
          2000,
          1963,
          2010,
          2018,
          1983,
          1968,
          2004,
          1992,
          1985,
          2012,
          1941,
          1931,
          1962,
          1959,
          1952,
          1958,
          1960,
          2001,
          1971,
          1944,
          1987,
          1983,
          2020,
          2010,
          1995,
          1962,
          1973,
          2009,
          2022,
          2011,
          1927,
          1976,
          1997,
          1988,
          2000,
          1989,
          1948,
          2007,
          2019,
          2004,
          2016,
          1965,
          2005,
          1921,
          1959,
          2020,
          1950,
          2013,
          2018,
          1961,
          1985,
          1995,
          1998,
          2006,
          2007,
          1992,
          1999,
          2010,
          2001,
          1993,
          1961,
          1948,
          1975,
          1963,
          2007,
          2003,
          1950,
          2021,
          1982,
          2003,
          1980,
          1974,
          1980,
          2005,
          1939,
          1998,
          2015,
          1954,
          2009,
          2004,
          2017,
          1957,
          1996,
          2013,
          2011,
          1996,
          2008,
          1988,
          2002,
          2004,
          1997,
          1982,
          1925,
          2019,
          1995,
          2011,
          2013,
          1954,
          1959,
          2014,
          2014,
          1957,
          1926,
          1993,
          1949,
          1975,
          1978,
          2016,
          1953,
          2003,
          1924,
          2014,
          1939,
          2015,
          2009,
          1957,
          2010,
          2001,
          2015,
          1975,
          1989,
          1998,
          1953,
          1928,
          2019,
          2004,
          1976,
          1986,
          2007,
          2015,
          1984,
          2017,
          1986,
          2013,
          1976,
          2004,
          2007,
          1939,
          1946,
          1955,
          1993,
          1973,
          1942,
          2004,
          1995,
          2003,
          1966,
          2009,
          1940,
          2021,
          2005,
          2000,
          1940,
          1967,
          2016,
          1959,
          1965,
          1934,
          1966,
          1979,
          1999,
          1975,
          2011,
          1992,
          1982,
          1990
         ],
         "xaxis": "x",
         "y": [
          "2h 22m",
          "2h 55m",
          "2h 32m",
          "3h 22m",
          "1h 36m",
          "3h 15m",
          "3h 21m",
          "2h 34m",
          "2h 58m",
          "2h 58m",
          "2h 22m",
          "2h 19m",
          "2h 59m",
          "2h 28m",
          "2h 4m",
          "2h 16m",
          "2h 25m",
          "2h 13m",
          "2h 7m",
          "3h 27m",
          "2h 10m",
          "1h 58m",
          "2h 49m",
          "2h 10m",
          "2h 49m",
          "1h 56m",
          "3h 9m",
          "2h 1m",
          "2h 17m",
          "1h 56m",
          "2h 5m",
          "2h 30m",
          "1h 49m",
          "2h 12m",
          "1h 50m",
          "1h 28m",
          "2h 35m",
          "1h 59m",
          "2h 31m",
          "1h 46m",
          "2h 10m",
          "1h 46m",
          "1h 42m",
          "1h 29m",
          "2h 13m",
          "1h 52m",
          "1h 27m",
          "2h 45m",
          "2h 35m",
          "1h 52m",
          "1h 57m",
          "1h 27m",
          "2h 27m",
          "1h 53m",
          "2h 45m",
          "1h 55m",
          "1h 38m",
          "2h 17m",
          "1h 50m",
          "1h 28m",
          "2h 26m",
          "2h 5m",
          "2h 29m",
          "1h 56m",
          "2h 17m",
          "1h 57m",
          "2h 2m",
          "1h 35m",
          "2h 44m",
          "2h",
          "2h 33m",
          "2h 40m",
          "1h 45m",
          "1h 21m",
          "2h 2m",
          "2h 58m",
          "2h 29m",
          "3h 1m",
          "2h 14m",
          "3h 49m",
          "2h 6m",
          "1h 46m",
          "1h 43m",
          "2h 50m",
          "1h 42m",
          "2h 23m",
          "1h 43m",
          "2h 6m",
          "2h 11m",
          "2h 29m",
          "1h 48m",
          "1h 39m",
          "2h 22m",
          "1h 55m",
          "1h 59m",
          "1h 39m",
          "3h 38m",
          "2h 16m",
          "2h 23m",
          "2h 8m",
          "2h 5m",
          "2h 2m",
          "2h 16m",
          "1h 47m",
          "1h 56m",
          "2h 50m",
          "2h 40m",
          "2h 11m",
          "2h 50m",
          "2h 9m",
          "2h 9m",
          "1h 36m",
          "2h 10m",
          "2h 3m",
          "2h 33m",
          "1h 54m",
          "2h 18m",
          "2h 12m",
          "1h 42m",
          "2h 7m",
          "1h 29m",
          "2h 45m",
          "1h 59m",
          "2h 36m",
          "2h 41m",
          "2h 12m",
          "2h 20m",
          "1h 8m",
          "2h 1m",
          "1h 37m",
          "2h 18m",
          "3h",
          "2h 10m",
          "2h 59m",
          "2h 42m",
          "2h 58m",
          "1h 43m",
          "1h 58m",
          "2h 38m",
          "2h 10m",
          "1h 47m",
          "2h 18m",
          "2h 15m",
          "2h 7m",
          "1h 50m",
          "2h 6m",
          "1h 31m",
          "2h 52m",
          "2h 2m",
          "1h 51m",
          "1h 28m",
          "2h 28m",
          "1h 49m",
          "1h 40m",
          "2h 4m",
          "2h 10m",
          "2h 9m",
          "2h 12m",
          "3h 58m",
          "1h 47m",
          "1h 35m",
          "1h 45m",
          "2h 9m",
          "1h 59m",
          "1h 55m",
          "2h 41m",
          "1h 33m",
          "2h 33m",
          "2h 20m",
          "1h 38m",
          "1h 56m",
          "1h 26m",
          "2h 21m",
          "2h 12m",
          "1h 29m",
          "1h 57m",
          "1h 35m",
          "1h 36m",
          "1h 41m",
          "2h 10m",
          "2h 14m",
          "1h 48m",
          "3h 32m",
          "1h 39m",
          "2h 29m",
          "1h 31m",
          "1h 7m",
          "2h 13m",
          "1h 33m",
          "3h 5m",
          "3h 3m",
          "2h 19m",
          "2h 11m",
          "2h 12m",
          "45m",
          "2h 2m",
          "2h 9m",
          "2h",
          "1h 32m",
          "1h 36m",
          "1h 38m",
          "1h 32m",
          "1h 58m",
          "2h 4m",
          "2h 8m",
          "1h 57m",
          "2h 16m",
          "1h 54m",
          "2h 32m",
          "2h 1m",
          "2h",
          "2h",
          "1h 51m",
          "2h 9m",
          "1h 47m",
          "2h 17m",
          "1h 29m",
          "2h 3m",
          "2h 1m",
          "1h 20m",
          "2h 28m",
          "1h 42m",
          "2h 50m",
          "2h 5m",
          "1h 41m",
          "2h 2m",
          "1h 39m",
          "1h 55m",
          "1h 38m",
          "2h 23m",
          "2h 1m",
          "1h 33m",
          "2h 9m",
          "2h 44m",
          "1h 52m",
          "2h 34m",
          "2h 10m",
          "2h 7m",
          "2h 25m",
          "1h 39m",
          "2h 52m",
          "1h 45m",
          "1h 23m",
          "1h 34m",
          "1h 26m",
          "2h 22m",
          "2h 26m",
          "1h 30m",
          "3h 11m",
          "3h 1m"
         ],
         "yaxis": "y"
        }
       ],
       "layout": {
        "legend": {
         "tracegroupgap": 0
        },
        "margin": {
         "t": 60
        },
        "template": {
         "data": {
          "bar": [
           {
            "error_x": {
             "color": "#2a3f5f"
            },
            "error_y": {
             "color": "#2a3f5f"
            },
            "marker": {
             "line": {
              "color": "#E5ECF6",
              "width": 0.5
             },
             "pattern": {
              "fillmode": "overlay",
              "size": 10,
              "solidity": 0.2
             }
            },
            "type": "bar"
           }
          ],
          "barpolar": [
           {
            "marker": {
             "line": {
              "color": "#E5ECF6",
              "width": 0.5
             },
             "pattern": {
              "fillmode": "overlay",
              "size": 10,
              "solidity": 0.2
             }
            },
            "type": "barpolar"
           }
          ],
          "carpet": [
           {
            "aaxis": {
             "endlinecolor": "#2a3f5f",
             "gridcolor": "white",
             "linecolor": "white",
             "minorgridcolor": "white",
             "startlinecolor": "#2a3f5f"
            },
            "baxis": {
             "endlinecolor": "#2a3f5f",
             "gridcolor": "white",
             "linecolor": "white",
             "minorgridcolor": "white",
             "startlinecolor": "#2a3f5f"
            },
            "type": "carpet"
           }
          ],
          "choropleth": [
           {
            "colorbar": {
             "outlinewidth": 0,
             "ticks": ""
            },
            "type": "choropleth"
           }
          ],
          "contour": [
           {
            "colorbar": {
             "outlinewidth": 0,
             "ticks": ""
            },
            "colorscale": [
             [
              0,
              "#0d0887"
             ],
             [
              0.1111111111111111,
              "#46039f"
             ],
             [
              0.2222222222222222,
              "#7201a8"
             ],
             [
              0.3333333333333333,
              "#9c179e"
             ],
             [
              0.4444444444444444,
              "#bd3786"
             ],
             [
              0.5555555555555556,
              "#d8576b"
             ],
             [
              0.6666666666666666,
              "#ed7953"
             ],
             [
              0.7777777777777778,
              "#fb9f3a"
             ],
             [
              0.8888888888888888,
              "#fdca26"
             ],
             [
              1,
              "#f0f921"
             ]
            ],
            "type": "contour"
           }
          ],
          "contourcarpet": [
           {
            "colorbar": {
             "outlinewidth": 0,
             "ticks": ""
            },
            "type": "contourcarpet"
           }
          ],
          "heatmap": [
           {
            "colorbar": {
             "outlinewidth": 0,
             "ticks": ""
            },
            "colorscale": [
             [
              0,
              "#0d0887"
             ],
             [
              0.1111111111111111,
              "#46039f"
             ],
             [
              0.2222222222222222,
              "#7201a8"
             ],
             [
              0.3333333333333333,
              "#9c179e"
             ],
             [
              0.4444444444444444,
              "#bd3786"
             ],
             [
              0.5555555555555556,
              "#d8576b"
             ],
             [
              0.6666666666666666,
              "#ed7953"
             ],
             [
              0.7777777777777778,
              "#fb9f3a"
             ],
             [
              0.8888888888888888,
              "#fdca26"
             ],
             [
              1,
              "#f0f921"
             ]
            ],
            "type": "heatmap"
           }
          ],
          "heatmapgl": [
           {
            "colorbar": {
             "outlinewidth": 0,
             "ticks": ""
            },
            "colorscale": [
             [
              0,
              "#0d0887"
             ],
             [
              0.1111111111111111,
              "#46039f"
             ],
             [
              0.2222222222222222,
              "#7201a8"
             ],
             [
              0.3333333333333333,
              "#9c179e"
             ],
             [
              0.4444444444444444,
              "#bd3786"
             ],
             [
              0.5555555555555556,
              "#d8576b"
             ],
             [
              0.6666666666666666,
              "#ed7953"
             ],
             [
              0.7777777777777778,
              "#fb9f3a"
             ],
             [
              0.8888888888888888,
              "#fdca26"
             ],
             [
              1,
              "#f0f921"
             ]
            ],
            "type": "heatmapgl"
           }
          ],
          "histogram": [
           {
            "marker": {
             "pattern": {
              "fillmode": "overlay",
              "size": 10,
              "solidity": 0.2
             }
            },
            "type": "histogram"
           }
          ],
          "histogram2d": [
           {
            "colorbar": {
             "outlinewidth": 0,
             "ticks": ""
            },
            "colorscale": [
             [
              0,
              "#0d0887"
             ],
             [
              0.1111111111111111,
              "#46039f"
             ],
             [
              0.2222222222222222,
              "#7201a8"
             ],
             [
              0.3333333333333333,
              "#9c179e"
             ],
             [
              0.4444444444444444,
              "#bd3786"
             ],
             [
              0.5555555555555556,
              "#d8576b"
             ],
             [
              0.6666666666666666,
              "#ed7953"
             ],
             [
              0.7777777777777778,
              "#fb9f3a"
             ],
             [
              0.8888888888888888,
              "#fdca26"
             ],
             [
              1,
              "#f0f921"
             ]
            ],
            "type": "histogram2d"
           }
          ],
          "histogram2dcontour": [
           {
            "colorbar": {
             "outlinewidth": 0,
             "ticks": ""
            },
            "colorscale": [
             [
              0,
              "#0d0887"
             ],
             [
              0.1111111111111111,
              "#46039f"
             ],
             [
              0.2222222222222222,
              "#7201a8"
             ],
             [
              0.3333333333333333,
              "#9c179e"
             ],
             [
              0.4444444444444444,
              "#bd3786"
             ],
             [
              0.5555555555555556,
              "#d8576b"
             ],
             [
              0.6666666666666666,
              "#ed7953"
             ],
             [
              0.7777777777777778,
              "#fb9f3a"
             ],
             [
              0.8888888888888888,
              "#fdca26"
             ],
             [
              1,
              "#f0f921"
             ]
            ],
            "type": "histogram2dcontour"
           }
          ],
          "mesh3d": [
           {
            "colorbar": {
             "outlinewidth": 0,
             "ticks": ""
            },
            "type": "mesh3d"
           }
          ],
          "parcoords": [
           {
            "line": {
             "colorbar": {
              "outlinewidth": 0,
              "ticks": ""
             }
            },
            "type": "parcoords"
           }
          ],
          "pie": [
           {
            "automargin": true,
            "type": "pie"
           }
          ],
          "scatter": [
           {
            "fillpattern": {
             "fillmode": "overlay",
             "size": 10,
             "solidity": 0.2
            },
            "type": "scatter"
           }
          ],
          "scatter3d": [
           {
            "line": {
             "colorbar": {
              "outlinewidth": 0,
              "ticks": ""
             }
            },
            "marker": {
             "colorbar": {
              "outlinewidth": 0,
              "ticks": ""
             }
            },
            "type": "scatter3d"
           }
          ],
          "scattercarpet": [
           {
            "marker": {
             "colorbar": {
              "outlinewidth": 0,
              "ticks": ""
             }
            },
            "type": "scattercarpet"
           }
          ],
          "scattergeo": [
           {
            "marker": {
             "colorbar": {
              "outlinewidth": 0,
              "ticks": ""
             }
            },
            "type": "scattergeo"
           }
          ],
          "scattergl": [
           {
            "marker": {
             "colorbar": {
              "outlinewidth": 0,
              "ticks": ""
             }
            },
            "type": "scattergl"
           }
          ],
          "scattermapbox": [
           {
            "marker": {
             "colorbar": {
              "outlinewidth": 0,
              "ticks": ""
             }
            },
            "type": "scattermapbox"
           }
          ],
          "scatterpolar": [
           {
            "marker": {
             "colorbar": {
              "outlinewidth": 0,
              "ticks": ""
             }
            },
            "type": "scatterpolar"
           }
          ],
          "scatterpolargl": [
           {
            "marker": {
             "colorbar": {
              "outlinewidth": 0,
              "ticks": ""
             }
            },
            "type": "scatterpolargl"
           }
          ],
          "scatterternary": [
           {
            "marker": {
             "colorbar": {
              "outlinewidth": 0,
              "ticks": ""
             }
            },
            "type": "scatterternary"
           }
          ],
          "surface": [
           {
            "colorbar": {
             "outlinewidth": 0,
             "ticks": ""
            },
            "colorscale": [
             [
              0,
              "#0d0887"
             ],
             [
              0.1111111111111111,
              "#46039f"
             ],
             [
              0.2222222222222222,
              "#7201a8"
             ],
             [
              0.3333333333333333,
              "#9c179e"
             ],
             [
              0.4444444444444444,
              "#bd3786"
             ],
             [
              0.5555555555555556,
              "#d8576b"
             ],
             [
              0.6666666666666666,
              "#ed7953"
             ],
             [
              0.7777777777777778,
              "#fb9f3a"
             ],
             [
              0.8888888888888888,
              "#fdca26"
             ],
             [
              1,
              "#f0f921"
             ]
            ],
            "type": "surface"
           }
          ],
          "table": [
           {
            "cells": {
             "fill": {
              "color": "#EBF0F8"
             },
             "line": {
              "color": "white"
             }
            },
            "header": {
             "fill": {
              "color": "#C8D4E3"
             },
             "line": {
              "color": "white"
             }
            },
            "type": "table"
           }
          ]
         },
         "layout": {
          "annotationdefaults": {
           "arrowcolor": "#2a3f5f",
           "arrowhead": 0,
           "arrowwidth": 1
          },
          "autotypenumbers": "strict",
          "coloraxis": {
           "colorbar": {
            "outlinewidth": 0,
            "ticks": ""
           }
          },
          "colorscale": {
           "diverging": [
            [
             0,
             "#8e0152"
            ],
            [
             0.1,
             "#c51b7d"
            ],
            [
             0.2,
             "#de77ae"
            ],
            [
             0.3,
             "#f1b6da"
            ],
            [
             0.4,
             "#fde0ef"
            ],
            [
             0.5,
             "#f7f7f7"
            ],
            [
             0.6,
             "#e6f5d0"
            ],
            [
             0.7,
             "#b8e186"
            ],
            [
             0.8,
             "#7fbc41"
            ],
            [
             0.9,
             "#4d9221"
            ],
            [
             1,
             "#276419"
            ]
           ],
           "sequential": [
            [
             0,
             "#0d0887"
            ],
            [
             0.1111111111111111,
             "#46039f"
            ],
            [
             0.2222222222222222,
             "#7201a8"
            ],
            [
             0.3333333333333333,
             "#9c179e"
            ],
            [
             0.4444444444444444,
             "#bd3786"
            ],
            [
             0.5555555555555556,
             "#d8576b"
            ],
            [
             0.6666666666666666,
             "#ed7953"
            ],
            [
             0.7777777777777778,
             "#fb9f3a"
            ],
            [
             0.8888888888888888,
             "#fdca26"
            ],
            [
             1,
             "#f0f921"
            ]
           ],
           "sequentialminus": [
            [
             0,
             "#0d0887"
            ],
            [
             0.1111111111111111,
             "#46039f"
            ],
            [
             0.2222222222222222,
             "#7201a8"
            ],
            [
             0.3333333333333333,
             "#9c179e"
            ],
            [
             0.4444444444444444,
             "#bd3786"
            ],
            [
             0.5555555555555556,
             "#d8576b"
            ],
            [
             0.6666666666666666,
             "#ed7953"
            ],
            [
             0.7777777777777778,
             "#fb9f3a"
            ],
            [
             0.8888888888888888,
             "#fdca26"
            ],
            [
             1,
             "#f0f921"
            ]
           ]
          },
          "colorway": [
           "#636efa",
           "#EF553B",
           "#00cc96",
           "#ab63fa",
           "#FFA15A",
           "#19d3f3",
           "#FF6692",
           "#B6E880",
           "#FF97FF",
           "#FECB52"
          ],
          "font": {
           "color": "#2a3f5f"
          },
          "geo": {
           "bgcolor": "white",
           "lakecolor": "white",
           "landcolor": "#E5ECF6",
           "showlakes": true,
           "showland": true,
           "subunitcolor": "white"
          },
          "hoverlabel": {
           "align": "left"
          },
          "hovermode": "closest",
          "mapbox": {
           "style": "light"
          },
          "paper_bgcolor": "white",
          "plot_bgcolor": "#E5ECF6",
          "polar": {
           "angularaxis": {
            "gridcolor": "white",
            "linecolor": "white",
            "ticks": ""
           },
           "bgcolor": "#E5ECF6",
           "radialaxis": {
            "gridcolor": "white",
            "linecolor": "white",
            "ticks": ""
           }
          },
          "scene": {
           "xaxis": {
            "backgroundcolor": "#E5ECF6",
            "gridcolor": "white",
            "gridwidth": 2,
            "linecolor": "white",
            "showbackground": true,
            "ticks": "",
            "zerolinecolor": "white"
           },
           "yaxis": {
            "backgroundcolor": "#E5ECF6",
            "gridcolor": "white",
            "gridwidth": 2,
            "linecolor": "white",
            "showbackground": true,
            "ticks": "",
            "zerolinecolor": "white"
           },
           "zaxis": {
            "backgroundcolor": "#E5ECF6",
            "gridcolor": "white",
            "gridwidth": 2,
            "linecolor": "white",
            "showbackground": true,
            "ticks": "",
            "zerolinecolor": "white"
           }
          },
          "shapedefaults": {
           "line": {
            "color": "#2a3f5f"
           }
          },
          "ternary": {
           "aaxis": {
            "gridcolor": "white",
            "linecolor": "white",
            "ticks": ""
           },
           "baxis": {
            "gridcolor": "white",
            "linecolor": "white",
            "ticks": ""
           },
           "bgcolor": "#E5ECF6",
           "caxis": {
            "gridcolor": "white",
            "linecolor": "white",
            "ticks": ""
           }
          },
          "title": {
           "x": 0.05
          },
          "xaxis": {
           "automargin": true,
           "gridcolor": "white",
           "linecolor": "white",
           "ticks": "",
           "title": {
            "standoff": 15
           },
           "zerolinecolor": "white",
           "zerolinewidth": 2
          },
          "yaxis": {
           "automargin": true,
           "gridcolor": "white",
           "linecolor": "white",
           "ticks": "",
           "title": {
            "standoff": 15
           },
           "zerolinecolor": "white",
           "zerolinewidth": 2
          }
         }
        },
        "xaxis": {
         "anchor": "y",
         "domain": [
          0,
          1
         ],
         "title": {
          "text": "year"
         }
        },
        "yaxis": {
         "anchor": "x",
         "domain": [
          0,
          1
         ],
         "title": {
          "text": "duration"
         }
        }
       }
      },
      "text/html": [
       "<div>                            <div id=\"ce303352-3fe3-474f-9466-8f127decad94\" class=\"plotly-graph-div\" style=\"height:525px; width:100%;\"></div>            <script type=\"text/javascript\">                require([\"plotly\"], function(Plotly) {                    window.PLOTLYENV=window.PLOTLYENV || {};                                    if (document.getElementById(\"ce303352-3fe3-474f-9466-8f127decad94\")) {                    Plotly.newPlot(                        \"ce303352-3fe3-474f-9466-8f127decad94\",                        [{\"hovertemplate\":\"year=%{x}<br>duration=%{y}<extra></extra>\",\"legendgroup\":\"\",\"marker\":{\"color\":\"#636efa\",\"symbol\":\"circle\"},\"mode\":\"markers\",\"name\":\"\",\"orientation\":\"h\",\"showlegend\":false,\"x\":[1994,1972,2008,1974,1957,1993,2003,1994,2001,1966,1994,1999,2002,2010,1980,1999,1990,1975,1995,1954,1946,1991,1998,2002,2014,1997,1999,1977,1991,1985,2001,2002,1960,2019,1994,1994,2000,1998,2006,1995,2006,2014,1942,1988,1962,2011,1936,1968,1988,1954,1979,1931,1979,2000,2012,1981,2008,2006,1950,1957,1980,1940,2018,1957,1986,2018,1999,1964,2012,2003,2009,1984,2017,1995,2019,1995,1981,2019,1997,1984,1997,2016,1952,2009,2000,1963,2010,2018,1983,1968,2004,1992,1985,2012,1941,1931,1962,1959,1952,1958,1960,2001,1971,1944,1987,1983,2020,2010,1995,1962,1973,2009,2022,2011,1927,1976,1997,1988,2000,1989,1948,2007,2019,2004,2016,1965,2005,1921,1959,2020,1950,2013,2018,1961,1985,1995,1998,2006,2007,1992,1999,2010,2001,1993,1961,1948,1975,1963,2007,2003,1950,2021,1982,2003,1980,1974,1980,2005,1939,1998,2015,1954,2009,2004,2017,1957,1996,2013,2011,1996,2008,1988,2002,2004,1997,1982,1925,2019,1995,2011,2013,1954,1959,2014,2014,1957,1926,1993,1949,1975,1978,2016,1953,2003,1924,2014,1939,2015,2009,1957,2010,2001,2015,1975,1989,1998,1953,1928,2019,2004,1976,1986,2007,2015,1984,2017,1986,2013,1976,2004,2007,1939,1946,1955,1993,1973,1942,2004,1995,2003,1966,2009,1940,2021,2005,2000,1940,1967,2016,1959,1965,1934,1966,1979,1999,1975,2011,1992,1982,1990],\"xaxis\":\"x\",\"y\":[\"2h 22m\",\"2h 55m\",\"2h 32m\",\"3h 22m\",\"1h 36m\",\"3h 15m\",\"3h 21m\",\"2h 34m\",\"2h 58m\",\"2h 58m\",\"2h 22m\",\"2h 19m\",\"2h 59m\",\"2h 28m\",\"2h 4m\",\"2h 16m\",\"2h 25m\",\"2h 13m\",\"2h 7m\",\"3h 27m\",\"2h 10m\",\"1h 58m\",\"2h 49m\",\"2h 10m\",\"2h 49m\",\"1h 56m\",\"3h 9m\",\"2h 1m\",\"2h 17m\",\"1h 56m\",\"2h 5m\",\"2h 30m\",\"1h 49m\",\"2h 12m\",\"1h 50m\",\"1h 28m\",\"2h 35m\",\"1h 59m\",\"2h 31m\",\"1h 46m\",\"2h 10m\",\"1h 46m\",\"1h 42m\",\"1h 29m\",\"2h 13m\",\"1h 52m\",\"1h 27m\",\"2h 45m\",\"2h 35m\",\"1h 52m\",\"1h 57m\",\"1h 27m\",\"2h 27m\",\"1h 53m\",\"2h 45m\",\"1h 55m\",\"1h 38m\",\"2h 17m\",\"1h 50m\",\"1h 28m\",\"2h 26m\",\"2h 5m\",\"2h 29m\",\"1h 56m\",\"2h 17m\",\"1h 57m\",\"2h 2m\",\"1h 35m\",\"2h 44m\",\"2h\",\"2h 33m\",\"2h 40m\",\"1h 45m\",\"1h 21m\",\"2h 2m\",\"2h 58m\",\"2h 29m\",\"3h 1m\",\"2h 14m\",\"3h 49m\",\"2h 6m\",\"1h 46m\",\"1h 43m\",\"2h 50m\",\"1h 42m\",\"2h 23m\",\"1h 43m\",\"2h 6m\",\"2h 11m\",\"2h 29m\",\"1h 48m\",\"1h 39m\",\"2h 22m\",\"1h 55m\",\"1h 59m\",\"1h 39m\",\"3h 38m\",\"2h 16m\",\"2h 23m\",\"2h 8m\",\"2h 5m\",\"2h 2m\",\"2h 16m\",\"1h 47m\",\"1h 56m\",\"2h 50m\",\"2h 40m\",\"2h 11m\",\"2h 50m\",\"2h 9m\",\"2h 9m\",\"1h 36m\",\"2h 10m\",\"2h 3m\",\"2h 33m\",\"1h 54m\",\"2h 18m\",\"2h 12m\",\"1h 42m\",\"2h 7m\",\"1h 29m\",\"2h 45m\",\"1h 59m\",\"2h 36m\",\"2h 41m\",\"2h 12m\",\"2h 20m\",\"1h 8m\",\"2h 1m\",\"1h 37m\",\"2h 18m\",\"3h\",\"2h 10m\",\"2h 59m\",\"2h 42m\",\"2h 58m\",\"1h 43m\",\"1h 58m\",\"2h 38m\",\"2h 10m\",\"1h 47m\",\"2h 18m\",\"2h 15m\",\"2h 7m\",\"1h 50m\",\"2h 6m\",\"1h 31m\",\"2h 52m\",\"2h 2m\",\"1h 51m\",\"1h 28m\",\"2h 28m\",\"1h 49m\",\"1h 40m\",\"2h 4m\",\"2h 10m\",\"2h 9m\",\"2h 12m\",\"3h 58m\",\"1h 47m\",\"1h 35m\",\"1h 45m\",\"2h 9m\",\"1h 59m\",\"1h 55m\",\"2h 41m\",\"1h 33m\",\"2h 33m\",\"2h 20m\",\"1h 38m\",\"1h 56m\",\"1h 26m\",\"2h 21m\",\"2h 12m\",\"1h 29m\",\"1h 57m\",\"1h 35m\",\"1h 36m\",\"1h 41m\",\"2h 10m\",\"2h 14m\",\"1h 48m\",\"3h 32m\",\"1h 39m\",\"2h 29m\",\"1h 31m\",\"1h 7m\",\"2h 13m\",\"1h 33m\",\"3h 5m\",\"3h 3m\",\"2h 19m\",\"2h 11m\",\"2h 12m\",\"45m\",\"2h 2m\",\"2h 9m\",\"2h\",\"1h 32m\",\"1h 36m\",\"1h 38m\",\"1h 32m\",\"1h 58m\",\"2h 4m\",\"2h 8m\",\"1h 57m\",\"2h 16m\",\"1h 54m\",\"2h 32m\",\"2h 1m\",\"2h\",\"2h\",\"1h 51m\",\"2h 9m\",\"1h 47m\",\"2h 17m\",\"1h 29m\",\"2h 3m\",\"2h 1m\",\"1h 20m\",\"2h 28m\",\"1h 42m\",\"2h 50m\",\"2h 5m\",\"1h 41m\",\"2h 2m\",\"1h 39m\",\"1h 55m\",\"1h 38m\",\"2h 23m\",\"2h 1m\",\"1h 33m\",\"2h 9m\",\"2h 44m\",\"1h 52m\",\"2h 34m\",\"2h 10m\",\"2h 7m\",\"2h 25m\",\"1h 39m\",\"2h 52m\",\"1h 45m\",\"1h 23m\",\"1h 34m\",\"1h 26m\",\"2h 22m\",\"2h 26m\",\"1h 30m\",\"3h 11m\",\"3h 1m\"],\"yaxis\":\"y\",\"type\":\"scatter\"}],                        {\"template\":{\"data\":{\"histogram2dcontour\":[{\"type\":\"histogram2dcontour\",\"colorbar\":{\"outlinewidth\":0,\"ticks\":\"\"},\"colorscale\":[[0.0,\"#0d0887\"],[0.1111111111111111,\"#46039f\"],[0.2222222222222222,\"#7201a8\"],[0.3333333333333333,\"#9c179e\"],[0.4444444444444444,\"#bd3786\"],[0.5555555555555556,\"#d8576b\"],[0.6666666666666666,\"#ed7953\"],[0.7777777777777778,\"#fb9f3a\"],[0.8888888888888888,\"#fdca26\"],[1.0,\"#f0f921\"]]}],\"choropleth\":[{\"type\":\"choropleth\",\"colorbar\":{\"outlinewidth\":0,\"ticks\":\"\"}}],\"histogram2d\":[{\"type\":\"histogram2d\",\"colorbar\":{\"outlinewidth\":0,\"ticks\":\"\"},\"colorscale\":[[0.0,\"#0d0887\"],[0.1111111111111111,\"#46039f\"],[0.2222222222222222,\"#7201a8\"],[0.3333333333333333,\"#9c179e\"],[0.4444444444444444,\"#bd3786\"],[0.5555555555555556,\"#d8576b\"],[0.6666666666666666,\"#ed7953\"],[0.7777777777777778,\"#fb9f3a\"],[0.8888888888888888,\"#fdca26\"],[1.0,\"#f0f921\"]]}],\"heatmap\":[{\"type\":\"heatmap\",\"colorbar\":{\"outlinewidth\":0,\"ticks\":\"\"},\"colorscale\":[[0.0,\"#0d0887\"],[0.1111111111111111,\"#46039f\"],[0.2222222222222222,\"#7201a8\"],[0.3333333333333333,\"#9c179e\"],[0.4444444444444444,\"#bd3786\"],[0.5555555555555556,\"#d8576b\"],[0.6666666666666666,\"#ed7953\"],[0.7777777777777778,\"#fb9f3a\"],[0.8888888888888888,\"#fdca26\"],[1.0,\"#f0f921\"]]}],\"heatmapgl\":[{\"type\":\"heatmapgl\",\"colorbar\":{\"outlinewidth\":0,\"ticks\":\"\"},\"colorscale\":[[0.0,\"#0d0887\"],[0.1111111111111111,\"#46039f\"],[0.2222222222222222,\"#7201a8\"],[0.3333333333333333,\"#9c179e\"],[0.4444444444444444,\"#bd3786\"],[0.5555555555555556,\"#d8576b\"],[0.6666666666666666,\"#ed7953\"],[0.7777777777777778,\"#fb9f3a\"],[0.8888888888888888,\"#fdca26\"],[1.0,\"#f0f921\"]]}],\"contourcarpet\":[{\"type\":\"contourcarpet\",\"colorbar\":{\"outlinewidth\":0,\"ticks\":\"\"}}],\"contour\":[{\"type\":\"contour\",\"colorbar\":{\"outlinewidth\":0,\"ticks\":\"\"},\"colorscale\":[[0.0,\"#0d0887\"],[0.1111111111111111,\"#46039f\"],[0.2222222222222222,\"#7201a8\"],[0.3333333333333333,\"#9c179e\"],[0.4444444444444444,\"#bd3786\"],[0.5555555555555556,\"#d8576b\"],[0.6666666666666666,\"#ed7953\"],[0.7777777777777778,\"#fb9f3a\"],[0.8888888888888888,\"#fdca26\"],[1.0,\"#f0f921\"]]}],\"surface\":[{\"type\":\"surface\",\"colorbar\":{\"outlinewidth\":0,\"ticks\":\"\"},\"colorscale\":[[0.0,\"#0d0887\"],[0.1111111111111111,\"#46039f\"],[0.2222222222222222,\"#7201a8\"],[0.3333333333333333,\"#9c179e\"],[0.4444444444444444,\"#bd3786\"],[0.5555555555555556,\"#d8576b\"],[0.6666666666666666,\"#ed7953\"],[0.7777777777777778,\"#fb9f3a\"],[0.8888888888888888,\"#fdca26\"],[1.0,\"#f0f921\"]]}],\"mesh3d\":[{\"type\":\"mesh3d\",\"colorbar\":{\"outlinewidth\":0,\"ticks\":\"\"}}],\"scatter\":[{\"fillpattern\":{\"fillmode\":\"overlay\",\"size\":10,\"solidity\":0.2},\"type\":\"scatter\"}],\"parcoords\":[{\"type\":\"parcoords\",\"line\":{\"colorbar\":{\"outlinewidth\":0,\"ticks\":\"\"}}}],\"scatterpolargl\":[{\"type\":\"scatterpolargl\",\"marker\":{\"colorbar\":{\"outlinewidth\":0,\"ticks\":\"\"}}}],\"bar\":[{\"error_x\":{\"color\":\"#2a3f5f\"},\"error_y\":{\"color\":\"#2a3f5f\"},\"marker\":{\"line\":{\"color\":\"#E5ECF6\",\"width\":0.5},\"pattern\":{\"fillmode\":\"overlay\",\"size\":10,\"solidity\":0.2}},\"type\":\"bar\"}],\"scattergeo\":[{\"type\":\"scattergeo\",\"marker\":{\"colorbar\":{\"outlinewidth\":0,\"ticks\":\"\"}}}],\"scatterpolar\":[{\"type\":\"scatterpolar\",\"marker\":{\"colorbar\":{\"outlinewidth\":0,\"ticks\":\"\"}}}],\"histogram\":[{\"marker\":{\"pattern\":{\"fillmode\":\"overlay\",\"size\":10,\"solidity\":0.2}},\"type\":\"histogram\"}],\"scattergl\":[{\"type\":\"scattergl\",\"marker\":{\"colorbar\":{\"outlinewidth\":0,\"ticks\":\"\"}}}],\"scatter3d\":[{\"type\":\"scatter3d\",\"line\":{\"colorbar\":{\"outlinewidth\":0,\"ticks\":\"\"}},\"marker\":{\"colorbar\":{\"outlinewidth\":0,\"ticks\":\"\"}}}],\"scattermapbox\":[{\"type\":\"scattermapbox\",\"marker\":{\"colorbar\":{\"outlinewidth\":0,\"ticks\":\"\"}}}],\"scatterternary\":[{\"type\":\"scatterternary\",\"marker\":{\"colorbar\":{\"outlinewidth\":0,\"ticks\":\"\"}}}],\"scattercarpet\":[{\"type\":\"scattercarpet\",\"marker\":{\"colorbar\":{\"outlinewidth\":0,\"ticks\":\"\"}}}],\"carpet\":[{\"aaxis\":{\"endlinecolor\":\"#2a3f5f\",\"gridcolor\":\"white\",\"linecolor\":\"white\",\"minorgridcolor\":\"white\",\"startlinecolor\":\"#2a3f5f\"},\"baxis\":{\"endlinecolor\":\"#2a3f5f\",\"gridcolor\":\"white\",\"linecolor\":\"white\",\"minorgridcolor\":\"white\",\"startlinecolor\":\"#2a3f5f\"},\"type\":\"carpet\"}],\"table\":[{\"cells\":{\"fill\":{\"color\":\"#EBF0F8\"},\"line\":{\"color\":\"white\"}},\"header\":{\"fill\":{\"color\":\"#C8D4E3\"},\"line\":{\"color\":\"white\"}},\"type\":\"table\"}],\"barpolar\":[{\"marker\":{\"line\":{\"color\":\"#E5ECF6\",\"width\":0.5},\"pattern\":{\"fillmode\":\"overlay\",\"size\":10,\"solidity\":0.2}},\"type\":\"barpolar\"}],\"pie\":[{\"automargin\":true,\"type\":\"pie\"}]},\"layout\":{\"autotypenumbers\":\"strict\",\"colorway\":[\"#636efa\",\"#EF553B\",\"#00cc96\",\"#ab63fa\",\"#FFA15A\",\"#19d3f3\",\"#FF6692\",\"#B6E880\",\"#FF97FF\",\"#FECB52\"],\"font\":{\"color\":\"#2a3f5f\"},\"hovermode\":\"closest\",\"hoverlabel\":{\"align\":\"left\"},\"paper_bgcolor\":\"white\",\"plot_bgcolor\":\"#E5ECF6\",\"polar\":{\"bgcolor\":\"#E5ECF6\",\"angularaxis\":{\"gridcolor\":\"white\",\"linecolor\":\"white\",\"ticks\":\"\"},\"radialaxis\":{\"gridcolor\":\"white\",\"linecolor\":\"white\",\"ticks\":\"\"}},\"ternary\":{\"bgcolor\":\"#E5ECF6\",\"aaxis\":{\"gridcolor\":\"white\",\"linecolor\":\"white\",\"ticks\":\"\"},\"baxis\":{\"gridcolor\":\"white\",\"linecolor\":\"white\",\"ticks\":\"\"},\"caxis\":{\"gridcolor\":\"white\",\"linecolor\":\"white\",\"ticks\":\"\"}},\"coloraxis\":{\"colorbar\":{\"outlinewidth\":0,\"ticks\":\"\"}},\"colorscale\":{\"sequential\":[[0.0,\"#0d0887\"],[0.1111111111111111,\"#46039f\"],[0.2222222222222222,\"#7201a8\"],[0.3333333333333333,\"#9c179e\"],[0.4444444444444444,\"#bd3786\"],[0.5555555555555556,\"#d8576b\"],[0.6666666666666666,\"#ed7953\"],[0.7777777777777778,\"#fb9f3a\"],[0.8888888888888888,\"#fdca26\"],[1.0,\"#f0f921\"]],\"sequentialminus\":[[0.0,\"#0d0887\"],[0.1111111111111111,\"#46039f\"],[0.2222222222222222,\"#7201a8\"],[0.3333333333333333,\"#9c179e\"],[0.4444444444444444,\"#bd3786\"],[0.5555555555555556,\"#d8576b\"],[0.6666666666666666,\"#ed7953\"],[0.7777777777777778,\"#fb9f3a\"],[0.8888888888888888,\"#fdca26\"],[1.0,\"#f0f921\"]],\"diverging\":[[0,\"#8e0152\"],[0.1,\"#c51b7d\"],[0.2,\"#de77ae\"],[0.3,\"#f1b6da\"],[0.4,\"#fde0ef\"],[0.5,\"#f7f7f7\"],[0.6,\"#e6f5d0\"],[0.7,\"#b8e186\"],[0.8,\"#7fbc41\"],[0.9,\"#4d9221\"],[1,\"#276419\"]]},\"xaxis\":{\"gridcolor\":\"white\",\"linecolor\":\"white\",\"ticks\":\"\",\"title\":{\"standoff\":15},\"zerolinecolor\":\"white\",\"automargin\":true,\"zerolinewidth\":2},\"yaxis\":{\"gridcolor\":\"white\",\"linecolor\":\"white\",\"ticks\":\"\",\"title\":{\"standoff\":15},\"zerolinecolor\":\"white\",\"automargin\":true,\"zerolinewidth\":2},\"scene\":{\"xaxis\":{\"backgroundcolor\":\"#E5ECF6\",\"gridcolor\":\"white\",\"linecolor\":\"white\",\"showbackground\":true,\"ticks\":\"\",\"zerolinecolor\":\"white\",\"gridwidth\":2},\"yaxis\":{\"backgroundcolor\":\"#E5ECF6\",\"gridcolor\":\"white\",\"linecolor\":\"white\",\"showbackground\":true,\"ticks\":\"\",\"zerolinecolor\":\"white\",\"gridwidth\":2},\"zaxis\":{\"backgroundcolor\":\"#E5ECF6\",\"gridcolor\":\"white\",\"linecolor\":\"white\",\"showbackground\":true,\"ticks\":\"\",\"zerolinecolor\":\"white\",\"gridwidth\":2}},\"shapedefaults\":{\"line\":{\"color\":\"#2a3f5f\"}},\"annotationdefaults\":{\"arrowcolor\":\"#2a3f5f\",\"arrowhead\":0,\"arrowwidth\":1},\"geo\":{\"bgcolor\":\"white\",\"landcolor\":\"#E5ECF6\",\"subunitcolor\":\"white\",\"showland\":true,\"showlakes\":true,\"lakecolor\":\"white\"},\"title\":{\"x\":0.05},\"mapbox\":{\"style\":\"light\"}}},\"xaxis\":{\"anchor\":\"y\",\"domain\":[0.0,1.0],\"title\":{\"text\":\"year\"}},\"yaxis\":{\"anchor\":\"x\",\"domain\":[0.0,1.0],\"title\":{\"text\":\"duration\"}},\"legend\":{\"tracegroupgap\":0},\"margin\":{\"t\":60}},                        {\"responsive\": true}                    ).then(function(){\n",
       "                            \n",
       "var gd = document.getElementById('ce303352-3fe3-474f-9466-8f127decad94');\n",
       "var x = new MutationObserver(function (mutations, observer) {{\n",
       "        var display = window.getComputedStyle(gd).display;\n",
       "        if (!display || display === 'none') {{\n",
       "            console.log([gd, 'removed!']);\n",
       "            Plotly.purge(gd);\n",
       "            observer.disconnect();\n",
       "        }}\n",
       "}});\n",
       "\n",
       "// Listen for the removal of the full notebook cells\n",
       "var notebookContainer = gd.closest('#notebook-container');\n",
       "if (notebookContainer) {{\n",
       "    x.observe(notebookContainer, {childList: true});\n",
       "}}\n",
       "\n",
       "// Listen for the clearing of the current output cell\n",
       "var outputEl = gd.closest('.output');\n",
       "if (outputEl) {{\n",
       "    x.observe(outputEl, {childList: true});\n",
       "}}\n",
       "\n",
       "                        })                };                });            </script>        </div>"
      ]
     },
     "metadata": {},
     "output_type": "display_data"
    }
   ],
   "source": [
    "fig = px.scatter(df, x='year', y='duration')\n",
    "fig.show()"
   ]
  },
  {
   "cell_type": "code",
   "execution_count": 17,
   "id": "f0bb2762",
   "metadata": {},
   "outputs": [
    {
     "data": {
      "text/html": [
       "<div>\n",
       "<style scoped>\n",
       "    .dataframe tbody tr th:only-of-type {\n",
       "        vertical-align: middle;\n",
       "    }\n",
       "\n",
       "    .dataframe tbody tr th {\n",
       "        vertical-align: top;\n",
       "    }\n",
       "\n",
       "    .dataframe thead th {\n",
       "        text-align: right;\n",
       "    }\n",
       "</style>\n",
       "<table border=\"1\" class=\"dataframe\">\n",
       "  <thead>\n",
       "    <tr style=\"text-align: right;\">\n",
       "      <th></th>\n",
       "      <th>title</th>\n",
       "      <th>genre</th>\n",
       "    </tr>\n",
       "  </thead>\n",
       "  <tbody>\n",
       "    <tr>\n",
       "      <th>0</th>\n",
       "      <td>The Shawshank Redemption</td>\n",
       "      <td>Drama</td>\n",
       "    </tr>\n",
       "    <tr>\n",
       "      <th>1</th>\n",
       "      <td>The Godfather</td>\n",
       "      <td>Crime,Drama</td>\n",
       "    </tr>\n",
       "    <tr>\n",
       "      <th>2</th>\n",
       "      <td>The Dark Knight</td>\n",
       "      <td>Action,Crime,Drama</td>\n",
       "    </tr>\n",
       "    <tr>\n",
       "      <th>3</th>\n",
       "      <td>The Godfather Part II</td>\n",
       "      <td>Crime,Drama</td>\n",
       "    </tr>\n",
       "    <tr>\n",
       "      <th>4</th>\n",
       "      <td>12 Angry Men</td>\n",
       "      <td>Crime,Drama</td>\n",
       "    </tr>\n",
       "    <tr>\n",
       "      <th>...</th>\n",
       "      <td>...</td>\n",
       "      <td>...</td>\n",
       "    </tr>\n",
       "    <tr>\n",
       "      <th>245</th>\n",
       "      <td>Dersu Uzala</td>\n",
       "      <td>Adventure,Biography,Drama</td>\n",
       "    </tr>\n",
       "    <tr>\n",
       "      <th>246</th>\n",
       "      <td>The Help</td>\n",
       "      <td>Drama</td>\n",
       "    </tr>\n",
       "    <tr>\n",
       "      <th>247</th>\n",
       "      <td>Aladdin</td>\n",
       "      <td>Animation,Adventure,Comedy</td>\n",
       "    </tr>\n",
       "    <tr>\n",
       "      <th>248</th>\n",
       "      <td>Gandhi</td>\n",
       "      <td>Biography,Drama,History</td>\n",
       "    </tr>\n",
       "    <tr>\n",
       "      <th>249</th>\n",
       "      <td>Dances with Wolves</td>\n",
       "      <td>Adventure,Drama,Western</td>\n",
       "    </tr>\n",
       "  </tbody>\n",
       "</table>\n",
       "<p>250 rows × 2 columns</p>\n",
       "</div>"
      ],
      "text/plain": [
       "                        title                       genre\n",
       "0    The Shawshank Redemption                       Drama\n",
       "1               The Godfather                 Crime,Drama\n",
       "2             The Dark Knight          Action,Crime,Drama\n",
       "3       The Godfather Part II                 Crime,Drama\n",
       "4                12 Angry Men                 Crime,Drama\n",
       "..                        ...                         ...\n",
       "245               Dersu Uzala   Adventure,Biography,Drama\n",
       "246                  The Help                       Drama\n",
       "247                   Aladdin  Animation,Adventure,Comedy\n",
       "248                    Gandhi     Biography,Drama,History\n",
       "249        Dances with Wolves     Adventure,Drama,Western\n",
       "\n",
       "[250 rows x 2 columns]"
      ]
     },
     "execution_count": 17,
     "metadata": {},
     "output_type": "execute_result"
    }
   ],
   "source": [
    "df[['title', 'genre']]"
   ]
  },
  {
   "cell_type": "code",
   "execution_count": 21,
   "id": "16136a8a",
   "metadata": {},
   "outputs": [
    {
     "data": {
      "text/plain": [
       "(250, 22)"
      ]
     },
     "execution_count": 21,
     "metadata": {},
     "output_type": "execute_result"
    }
   ],
   "source": [
    "# to know the number of rows and columns I have\n",
    "df.shape"
   ]
  },
  {
   "cell_type": "code",
   "execution_count": 24,
   "id": "ed01ad76",
   "metadata": {},
   "outputs": [
    {
     "data": {
      "text/plain": [
       "0                           Drama\n",
       "1                     Crime,Drama\n",
       "2              Action,Crime,Drama\n",
       "3                     Crime,Drama\n",
       "4                     Crime,Drama\n",
       "                  ...            \n",
       "245     Adventure,Biography,Drama\n",
       "246                         Drama\n",
       "247    Animation,Adventure,Comedy\n",
       "248       Biography,Drama,History\n",
       "249       Adventure,Drama,Western\n",
       "Name: genre, Length: 250, dtype: object"
      ]
     },
     "execution_count": 24,
     "metadata": {},
     "output_type": "execute_result"
    }
   ],
   "source": [
    "df['genre']"
   ]
  },
  {
   "cell_type": "code",
   "execution_count": 35,
   "id": "d22ee69a",
   "metadata": {},
   "outputs": [
    {
     "data": {
      "text/html": [
       "<div>\n",
       "<style scoped>\n",
       "    .dataframe tbody tr th:only-of-type {\n",
       "        vertical-align: middle;\n",
       "    }\n",
       "\n",
       "    .dataframe tbody tr th {\n",
       "        vertical-align: top;\n",
       "    }\n",
       "\n",
       "    .dataframe thead th {\n",
       "        text-align: right;\n",
       "    }\n",
       "</style>\n",
       "<table border=\"1\" class=\"dataframe\">\n",
       "  <thead>\n",
       "    <tr style=\"text-align: right;\">\n",
       "      <th></th>\n",
       "      <th>rank</th>\n",
       "      <th>movie_id</th>\n",
       "      <th>title</th>\n",
       "      <th>year</th>\n",
       "      <th>link</th>\n",
       "      <th>imbd_votes</th>\n",
       "      <th>imbd_rating</th>\n",
       "      <th>certificate</th>\n",
       "      <th>duration</th>\n",
       "      <th>genre</th>\n",
       "      <th>...</th>\n",
       "      <th>director_id</th>\n",
       "      <th>director_name</th>\n",
       "      <th>writer_id</th>\n",
       "      <th>writer_name</th>\n",
       "      <th>storyline</th>\n",
       "      <th>user_id</th>\n",
       "      <th>user_name</th>\n",
       "      <th>review_id</th>\n",
       "      <th>review_title</th>\n",
       "      <th>review_content</th>\n",
       "    </tr>\n",
       "  </thead>\n",
       "  <tbody>\n",
       "    <tr>\n",
       "      <th>0</th>\n",
       "      <td>1</td>\n",
       "      <td>tt0111161</td>\n",
       "      <td>The Shawshank Redemption</td>\n",
       "      <td>1994</td>\n",
       "      <td>https://www.imdb.com/title/tt0111161</td>\n",
       "      <td>2,711,075</td>\n",
       "      <td>9.3</td>\n",
       "      <td>R</td>\n",
       "      <td>2h 22m</td>\n",
       "      <td>Drama</td>\n",
       "      <td>...</td>\n",
       "      <td>nm0001104</td>\n",
       "      <td>Frank Darabont</td>\n",
       "      <td>nm0000175,nm0001104</td>\n",
       "      <td>Stephen King,Frank Darabont</td>\n",
       "      <td>Over the course of several years, two convicts...</td>\n",
       "      <td>ur16161013,ur15311310,ur0265899,ur16117882,ur1...</td>\n",
       "      <td>hitchcockthelegend,Sleepin_Dragon,EyeDunno,ale...</td>\n",
       "      <td>rw2284594,rw6606154,rw1221355,rw1822343,rw1288...</td>\n",
       "      <td>Some birds aren't meant to be caged.,An incred...</td>\n",
       "      <td>The Shawshank Redemption is written and direct...</td>\n",
       "    </tr>\n",
       "    <tr>\n",
       "      <th>11</th>\n",
       "      <td>12</td>\n",
       "      <td>tt0137523</td>\n",
       "      <td>Fight Club</td>\n",
       "      <td>1999</td>\n",
       "      <td>https://www.imdb.com/title/tt0137523</td>\n",
       "      <td>2,154,995</td>\n",
       "      <td>8.8</td>\n",
       "      <td>R</td>\n",
       "      <td>2h 19m</td>\n",
       "      <td>Drama</td>\n",
       "      <td>...</td>\n",
       "      <td>nm0000399</td>\n",
       "      <td>David Fincher</td>\n",
       "      <td>nm0657333,nm0880243</td>\n",
       "      <td>Chuck Palahniuk,Jim Uhls</td>\n",
       "      <td>An insomniac office worker and a devil-may-car...</td>\n",
       "      <td>ur113529171,ur2860723,ur0482513,ur15794099,ur2...</td>\n",
       "      <td>Pukeonthestreet,grantss,Leofwine_draca,gogosch...</td>\n",
       "      <td>rw5476552,rw3001234,rw3504332,rw2923012,rw2251...</td>\n",
       "      <td>A great movie you can watch again and again,Su...</td>\n",
       "      <td>Because you'll probably be confused the first ...</td>\n",
       "    </tr>\n",
       "    <tr>\n",
       "      <th>17</th>\n",
       "      <td>18</td>\n",
       "      <td>tt0073486</td>\n",
       "      <td>One Flew Over the Cuckoo's Nest</td>\n",
       "      <td>1975</td>\n",
       "      <td>https://www.imdb.com/title/tt0073486</td>\n",
       "      <td>1,017,354</td>\n",
       "      <td>8.7</td>\n",
       "      <td>18+</td>\n",
       "      <td>2h 13m</td>\n",
       "      <td>Drama</td>\n",
       "      <td>...</td>\n",
       "      <td>nm0001232</td>\n",
       "      <td>Milos Forman</td>\n",
       "      <td>tt0073486,nm0369142,nm0325743,nm0450181,tt0073486</td>\n",
       "      <td>Writers,Lawrence Hauben,Bo Goldman,Ken Kesey,</td>\n",
       "      <td>In the Fall of 1963, a Korean War veteran and ...</td>\n",
       "      <td>ur4409266,ur3728510,ur2093818,ur3922673,ur8949...</td>\n",
       "      <td>Wuchakk,pyrocitor,TBJCSKCNRRQTreviews,philip_v...</td>\n",
       "      <td>rw2692389,rw0998871,rw0143219,rw0143229,rw4245...</td>\n",
       "      <td>The spirit of freedom vs. the spirit of legal-...</td>\n",
       "      <td>Set in the early 60s, the story involves R.P. ...</td>\n",
       "    </tr>\n",
       "    <tr>\n",
       "      <th>66</th>\n",
       "      <td>67</td>\n",
       "      <td>tt0169547</td>\n",
       "      <td>American Beauty</td>\n",
       "      <td>1999</td>\n",
       "      <td>https://www.imdb.com/title/tt0169547</td>\n",
       "      <td>1,164,109</td>\n",
       "      <td>8.4</td>\n",
       "      <td>R</td>\n",
       "      <td>2h 2m</td>\n",
       "      <td>Drama</td>\n",
       "      <td>...</td>\n",
       "      <td>nm0005222</td>\n",
       "      <td>Sam Mendes</td>\n",
       "      <td>nm0050332</td>\n",
       "      <td>Alan Ball</td>\n",
       "      <td>A sexually frustrated suburban father has a mi...</td>\n",
       "      <td>ur2354731,ur0476267,ur1293485,ur0455949,ur0363...</td>\n",
       "      <td>the-evil-cult,RueMorgue,Smells_Like_Cheese,Ant...</td>\n",
       "      <td>rw0593815,rw0591850,rw0592440,rw0592084,rw0592...</td>\n",
       "      <td>Entertaining and Thought-Provoking.,An Oscar w...</td>\n",
       "      <td>Of the 250+ films I've seen and rated on IMDb,...</td>\n",
       "    </tr>\n",
       "    <tr>\n",
       "      <th>84</th>\n",
       "      <td>85</td>\n",
       "      <td>tt0180093</td>\n",
       "      <td>Requiem for a Dream</td>\n",
       "      <td>2000</td>\n",
       "      <td>https://www.imdb.com/title/tt0180093</td>\n",
       "      <td>852,453</td>\n",
       "      <td>8.3</td>\n",
       "      <td>Unrated</td>\n",
       "      <td>1h 42m</td>\n",
       "      <td>Drama</td>\n",
       "      <td>...</td>\n",
       "      <td>nm0004716</td>\n",
       "      <td>Darren Aronofsky</td>\n",
       "      <td>nm0782968,nm0004716</td>\n",
       "      <td>Hubert Selby Jr.,Darren Aronofsky</td>\n",
       "      <td>The drug-induced utopias of four Coney Island ...</td>\n",
       "      <td>ur119249824,ur2467618,ur1002035,ur1425588,ur10...</td>\n",
       "      <td>hwm-05554,planktonrules,bob the moo,Danfish,mi...</td>\n",
       "      <td>rw6065804,rw3530827,rw0944395,rw0611000,rw5957...</td>\n",
       "      <td>Great movie, I hated every minute of it,A visu...</td>\n",
       "      <td>This movie is about how drugs can affect your ...</td>\n",
       "    </tr>\n",
       "    <tr>\n",
       "      <th>87</th>\n",
       "      <td>88</td>\n",
       "      <td>tt8267604</td>\n",
       "      <td>Capernaum</td>\n",
       "      <td>2018</td>\n",
       "      <td>https://www.imdb.com/title/tt8267604</td>\n",
       "      <td>92,871</td>\n",
       "      <td>8.4</td>\n",
       "      <td>R</td>\n",
       "      <td>2h 6m</td>\n",
       "      <td>Drama</td>\n",
       "      <td>...</td>\n",
       "      <td>nm1701024</td>\n",
       "      <td>Nadine Labaki</td>\n",
       "      <td>tt8267604,nm1701024,nm2764802,nm9878616,tt8267604</td>\n",
       "      <td>Writers,Nadine Labaki,Jihad Hojeily,Michelle K...</td>\n",
       "      <td>While serving a five-year sentence for a viole...</td>\n",
       "      <td>ur87850731,ur2467618,ur17825945,ur60343557,ur2...</td>\n",
       "      <td>MrHeraclius,planktonrules,thesar-2,andrewestre...</td>\n",
       "      <td>rw5480034,rw5928544,rw6022577,rw4461566,rw4991...</td>\n",
       "      <td>Capernaum,Well made but very difficult to watc...</td>\n",
       "      <td>Zain Al Rafeea is a terrific revelation in thi...</td>\n",
       "    </tr>\n",
       "    <tr>\n",
       "      <th>93</th>\n",
       "      <td>94</td>\n",
       "      <td>tt2106476</td>\n",
       "      <td>The Hunt</td>\n",
       "      <td>2012</td>\n",
       "      <td>https://www.imdb.com/title/tt2106476</td>\n",
       "      <td>336,241</td>\n",
       "      <td>8.3</td>\n",
       "      <td>R</td>\n",
       "      <td>1h 55m</td>\n",
       "      <td>Drama</td>\n",
       "      <td>...</td>\n",
       "      <td>nm0899121</td>\n",
       "      <td>Thomas Vinterberg</td>\n",
       "      <td>nm0899121,nm2105585</td>\n",
       "      <td>Thomas Vinterberg,Tobias Lindholm</td>\n",
       "      <td>A teacher lives a lonely life, all the while s...</td>\n",
       "      <td>ur0278527,ur22668817,ur0453068,ur2467618,ur344...</td>\n",
       "      <td>Hitchcoc,FlashCallahan,Quinoa1984,planktonrule...</td>\n",
       "      <td>rw2951920,rw2917732,rw3242626,rw2944654,rw2715...</td>\n",
       "      <td>Once Again: The Children's Hour,He doesn't hav...</td>\n",
       "      <td>Having worked as a teacher for some forty year...</td>\n",
       "    </tr>\n",
       "    <tr>\n",
       "      <th>98</th>\n",
       "      <td>99</td>\n",
       "      <td>tt0044741</td>\n",
       "      <td>Ikiru</td>\n",
       "      <td>1952</td>\n",
       "      <td>https://www.imdb.com/title/tt0044741</td>\n",
       "      <td>80,354</td>\n",
       "      <td>8.3</td>\n",
       "      <td>Not Rated</td>\n",
       "      <td>2h 23m</td>\n",
       "      <td>Drama</td>\n",
       "      <td>...</td>\n",
       "      <td>nm0000041</td>\n",
       "      <td>Akira Kurosawa</td>\n",
       "      <td>nm0000041,nm0368074,nm0644823</td>\n",
       "      <td>Akira Kurosawa,Shinobu Hashimoto,Hideo Oguni</td>\n",
       "      <td>A bureaucrat tries to find meaning in his life...</td>\n",
       "      <td>ur1559834,ur0453068,ur2248099,ur0278527,ur4888...</td>\n",
       "      <td>OttoVonB,Quinoa1984,The_Void,Hitchcoc,lee_eise...</td>\n",
       "      <td>rw0047035,rw0047044,rw0979541,rw2139951,rw3631...</td>\n",
       "      <td>\"Only when he learned he would die did he star...</td>\n",
       "      <td>Ikiru (\"to live\")is a Kurosawa film devoid of ...</td>\n",
       "    </tr>\n",
       "    <tr>\n",
       "      <th>113</th>\n",
       "      <td>114</td>\n",
       "      <td>tt1832382</td>\n",
       "      <td>A Separation</td>\n",
       "      <td>2011</td>\n",
       "      <td>https://www.imdb.com/title/tt1832382</td>\n",
       "      <td>247,485</td>\n",
       "      <td>8.3</td>\n",
       "      <td>PG-13</td>\n",
       "      <td>2h 3m</td>\n",
       "      <td>Drama</td>\n",
       "      <td>...</td>\n",
       "      <td>nm1410815</td>\n",
       "      <td>Asghar Farhadi</td>\n",
       "      <td>nm1410815</td>\n",
       "      <td>Asghar Farhadi</td>\n",
       "      <td>A married couple are faced with a difficult de...</td>\n",
       "      <td>ur2488512,ur2152472,ur1419266,ur20315186,ur122...</td>\n",
       "      <td>claudio_carvalho,krisrox,stensson,Radu_A,Ramas...</td>\n",
       "      <td>rw2548767,rw2482803,rw2501181,rw2386488,rw2539...</td>\n",
       "      <td>Mankind Is Flawed,Do yourself a favor - make s...</td>\n",
       "      <td>In Tehran, the teacher Simin (Leila Hatami) ha...</td>\n",
       "    </tr>\n",
       "    <tr>\n",
       "      <th>120</th>\n",
       "      <td>121</td>\n",
       "      <td>tt0040522</td>\n",
       "      <td>Bicycle Thieves</td>\n",
       "      <td>1948</td>\n",
       "      <td>https://www.imdb.com/title/tt0040522</td>\n",
       "      <td>165,771</td>\n",
       "      <td>8.3</td>\n",
       "      <td>Not Rated</td>\n",
       "      <td>1h 29m</td>\n",
       "      <td>Drama</td>\n",
       "      <td>...</td>\n",
       "      <td>nm0001120</td>\n",
       "      <td>Vittorio De Sica</td>\n",
       "      <td>tt0040522,nm0953790,nm0059030,nm0080755,tt0040522</td>\n",
       "      <td>Writers,Cesare Zavattini,Luigi Bartolini,Orest...</td>\n",
       "      <td>In post-war Italy, a working-class man's bicyc...</td>\n",
       "      <td>ur0688559,ur0453068,ur1282070,ur2339662,ur2488...</td>\n",
       "      <td>tfrizzell,Quinoa1984,ItalianGerry,FilmOtaku,cl...</td>\n",
       "      <td>rw0038353,rw0038352,rw0038368,rw0038374,rw2225...</td>\n",
       "      <td>Quiet Desperation---Italian Style.,Another one...</td>\n",
       "      <td>In post-World War II Italy poverty is a dire r...</td>\n",
       "    </tr>\n",
       "    <tr>\n",
       "      <th>130</th>\n",
       "      <td>131</td>\n",
       "      <td>tt0042192</td>\n",
       "      <td>All About Eve</td>\n",
       "      <td>1950</td>\n",
       "      <td>https://www.imdb.com/title/tt0042192</td>\n",
       "      <td>132,775</td>\n",
       "      <td>8.2</td>\n",
       "      <td>Passed</td>\n",
       "      <td>2h 18m</td>\n",
       "      <td>Drama</td>\n",
       "      <td>...</td>\n",
       "      <td>nm0000581</td>\n",
       "      <td>Joseph L. Mankiewicz</td>\n",
       "      <td>nm0000581,nm0650581</td>\n",
       "      <td>Joseph L. Mankiewicz,Mary Orr</td>\n",
       "      <td>A seemingly timid but secretly ruthless ingénu...</td>\n",
       "      <td>ur2488512,ur20552756,ur12596887,ur2420383,ur01...</td>\n",
       "      <td>claudio_carvalho,TheLittleSongbird,JohnHowardR...</td>\n",
       "      <td>rw1195687,rw2076000,rw3793117,rw2210508,rw0041...</td>\n",
       "      <td>A Magnificent Timeless Tale of Ambition, Manip...</td>\n",
       "      <td>The ambitious Eve Harrington (Anne Baxter) get...</td>\n",
       "    </tr>\n",
       "    <tr>\n",
       "      <th>138</th>\n",
       "      <td>139</td>\n",
       "      <td>tt0469494</td>\n",
       "      <td>There Will Be Blood</td>\n",
       "      <td>2007</td>\n",
       "      <td>https://www.imdb.com/title/tt0469494</td>\n",
       "      <td>595,129</td>\n",
       "      <td>8.2</td>\n",
       "      <td>R</td>\n",
       "      <td>2h 38m</td>\n",
       "      <td>Drama</td>\n",
       "      <td>...</td>\n",
       "      <td>nm0000759</td>\n",
       "      <td>Paul Thomas Anderson</td>\n",
       "      <td>nm0000759,nm0801737</td>\n",
       "      <td>Paul Thomas Anderson,Upton Sinclair</td>\n",
       "      <td>A story of family, religion, hatred, oil and m...</td>\n",
       "      <td>ur16117882,ur0482513,ur19117722,ur55517503,ur4...</td>\n",
       "      <td>alexkolokotronis,Leofwine_draca,murtaza_mma,br...</td>\n",
       "      <td>rw1840254,rw2580474,rw2133941,rw7817140,rw1859...</td>\n",
       "      <td>The Truth Hurts,Excellent, gutsy filmmaking,Th...</td>\n",
       "      <td>People did not like this movie for a simple re...</td>\n",
       "    </tr>\n",
       "    <tr>\n",
       "      <th>166</th>\n",
       "      <td>167</td>\n",
       "      <td>tt0117951</td>\n",
       "      <td>Trainspotting</td>\n",
       "      <td>1996</td>\n",
       "      <td>https://www.imdb.com/title/tt0117951</td>\n",
       "      <td>694,832</td>\n",
       "      <td>8.1</td>\n",
       "      <td>R</td>\n",
       "      <td>1h 33m</td>\n",
       "      <td>Drama</td>\n",
       "      <td>...</td>\n",
       "      <td>nm0000965</td>\n",
       "      <td>Danny Boyle</td>\n",
       "      <td>nm0920543,nm0388076</td>\n",
       "      <td>Irvine Welsh,John Hodge</td>\n",
       "      <td>Renton, deeply immersed in the Edinburgh drug ...</td>\n",
       "      <td>ur0278527,ur1002035,ur4569900,ur11842025,ur157...</td>\n",
       "      <td>Hitchcoc,bob the moo,Prismark10,ametaphysicals...</td>\n",
       "      <td>rw5261062,rw0398029,rw3602356,rw1838512,rw4190...</td>\n",
       "      <td>Now I See Why,Hilarious, imaginative and very ...</td>\n",
       "      <td>I'm an old guy. I'm also a movie fan with an o...</td>\n",
       "    </tr>\n",
       "    <tr>\n",
       "      <th>170</th>\n",
       "      <td>171</td>\n",
       "      <td>tt1205489</td>\n",
       "      <td>Gran Torino</td>\n",
       "      <td>2008</td>\n",
       "      <td>https://www.imdb.com/title/tt1205489</td>\n",
       "      <td>783,124</td>\n",
       "      <td>8.1</td>\n",
       "      <td>R</td>\n",
       "      <td>1h 56m</td>\n",
       "      <td>Drama</td>\n",
       "      <td>...</td>\n",
       "      <td>nm0000142</td>\n",
       "      <td>Clint Eastwood</td>\n",
       "      <td>nm1010405,nm3164738</td>\n",
       "      <td>Nick Schenk,Dave Johannson</td>\n",
       "      <td>Disgruntled Korean War veteran Walt Kowalski s...</td>\n",
       "      <td>ur11842025,ur80922659,ur1293485,ur0076091,ur95...</td>\n",
       "      <td>ametaphysicalshark,dk777,Smells_Like_Cheese,Ke...</td>\n",
       "      <td>rw1990728,rw6510512,rw2041497,rw1989879,rw1990...</td>\n",
       "      <td>Yet another Eastwood gem,Gran Torino,Clint's b...</td>\n",
       "      <td>I feel like I should let everyone reading this...</td>\n",
       "    </tr>\n",
       "    <tr>\n",
       "      <th>206</th>\n",
       "      <td>207</td>\n",
       "      <td>tt0046438</td>\n",
       "      <td>Tokyo Story</td>\n",
       "      <td>1953</td>\n",
       "      <td>https://www.imdb.com/title/tt0046438</td>\n",
       "      <td>63,208</td>\n",
       "      <td>8.2</td>\n",
       "      <td>Not Rated</td>\n",
       "      <td>2h 16m</td>\n",
       "      <td>Drama</td>\n",
       "      <td>...</td>\n",
       "      <td>nm0654868</td>\n",
       "      <td>Yasujirô Ozu</td>\n",
       "      <td>nm0633792,nm0654868</td>\n",
       "      <td>Kôgo Noda,Yasujirô Ozu</td>\n",
       "      <td>An old couple visit their children and grandch...</td>\n",
       "      <td>ur3608743,ur1098460,ur14908520,ur0491610,ur007...</td>\n",
       "      <td>EUyeshima,Galina_movie_fan,GyatsoLa,howard.sch...</td>\n",
       "      <td>rw1237040,rw0050722,rw1633160,rw0050710,rw0050...</td>\n",
       "      <td>Ozu's Quietly Brilliant Masterpiece Deserves Y...</td>\n",
       "      <td>I think this movie is amazing for reasons I wa...</td>\n",
       "    </tr>\n",
       "    <tr>\n",
       "      <th>218</th>\n",
       "      <td>219</td>\n",
       "      <td>tt0074958</td>\n",
       "      <td>Network</td>\n",
       "      <td>1976</td>\n",
       "      <td>https://www.imdb.com/title/tt0074958</td>\n",
       "      <td>161,819</td>\n",
       "      <td>8.1</td>\n",
       "      <td>R</td>\n",
       "      <td>2h 1m</td>\n",
       "      <td>Drama</td>\n",
       "      <td>...</td>\n",
       "      <td>nm0001486</td>\n",
       "      <td>Sidney Lumet</td>\n",
       "      <td>nm0154665</td>\n",
       "      <td>Paddy Chayefsky</td>\n",
       "      <td>A television network cynically exploits a dera...</td>\n",
       "      <td>ur0688559,ur0384847,ur9521536,ur0541468,ur2420...</td>\n",
       "      <td>tfrizzell,nycritic,dead47548,cchase,Lechuguill...</td>\n",
       "      <td>rw0148846,rw1026099,rw1796611,rw1160445,rw2103...</td>\n",
       "      <td>It Is More Than a Film, It Is Like a Crystal B...</td>\n",
       "      <td>\"Network\". If there was ever a film that fores...</td>\n",
       "    </tr>\n",
       "    <tr>\n",
       "      <th>223</th>\n",
       "      <td>224</td>\n",
       "      <td>tt0048473</td>\n",
       "      <td>Pather Panchali</td>\n",
       "      <td>1955</td>\n",
       "      <td>https://www.imdb.com/title/tt0048473</td>\n",
       "      <td>34,328</td>\n",
       "      <td>8.3</td>\n",
       "      <td>Not Rated</td>\n",
       "      <td>2h 5m</td>\n",
       "      <td>Drama</td>\n",
       "      <td>...</td>\n",
       "      <td>nm0006249</td>\n",
       "      <td>Satyajit Ray</td>\n",
       "      <td>nm0051808,nm0006249</td>\n",
       "      <td>Bibhutibhushan Bandyopadhyay,Satyajit Ray</td>\n",
       "      <td>Impoverished priest Harihar Ray, dreaming of a...</td>\n",
       "      <td>ur0391152,ur1282070,ur0239428,ur5788055,ur4103...</td>\n",
       "      <td>zetes,ItalianGerry,harry-76,briancham1994,Xsta...</td>\n",
       "      <td>rw0055920,rw1458890,rw0055915,rw8270909,rw7391...</td>\n",
       "      <td>Absolutely Perfect. One of the best films ever...</td>\n",
       "      <td>It is a little known fact that India produces ...</td>\n",
       "    </tr>\n",
       "    <tr>\n",
       "      <th>232</th>\n",
       "      <td>233</td>\n",
       "      <td>tt0032551</td>\n",
       "      <td>The Grapes of Wrath</td>\n",
       "      <td>1940</td>\n",
       "      <td>https://www.imdb.com/title/tt0032551</td>\n",
       "      <td>95,146</td>\n",
       "      <td>8.1</td>\n",
       "      <td>Passed</td>\n",
       "      <td>2h 9m</td>\n",
       "      <td>Drama</td>\n",
       "      <td>...</td>\n",
       "      <td>nm0000406</td>\n",
       "      <td>John Ford</td>\n",
       "      <td>nm0425913,nm0825705</td>\n",
       "      <td>Nunnally Johnson,John Steinbeck</td>\n",
       "      <td>An Oklahoma family, driven off their farm by t...</td>\n",
       "      <td>ur2483625,ur0562732,ur4532636,ur2444068,ur4939...</td>\n",
       "      <td>bkoganbing,Anonymous_Maxine,evanston_dad,inkbl...</td>\n",
       "      <td>rw1487672,rw0021724,rw1288247,rw4131945,rw1649...</td>\n",
       "      <td>Economic Dislocation,John Ford's stark portray...</td>\n",
       "      <td>John Ford's film of John Steinbeck's novel has...</td>\n",
       "    </tr>\n",
       "    <tr>\n",
       "      <th>246</th>\n",
       "      <td>247</td>\n",
       "      <td>tt1454029</td>\n",
       "      <td>The Help</td>\n",
       "      <td>2011</td>\n",
       "      <td>https://www.imdb.com/title/tt1454029</td>\n",
       "      <td>466,011</td>\n",
       "      <td>8.1</td>\n",
       "      <td>PG-13</td>\n",
       "      <td>2h 26m</td>\n",
       "      <td>Drama</td>\n",
       "      <td>...</td>\n",
       "      <td>nm0853238</td>\n",
       "      <td>Tate Taylor</td>\n",
       "      <td>nm0853238,nm3543826</td>\n",
       "      <td>Tate Taylor,Kathryn Stockett</td>\n",
       "      <td>An aspiring author during the civil rights mov...</td>\n",
       "      <td>ur0806494,ur1391596,ur24207576,ur2955724,ur221...</td>\n",
       "      <td>ferguson-6,JohnDeSando,taylor_king-890-815491,...</td>\n",
       "      <td>rw2473566,rw2472337,rw2472299,rw2697863,rw2488...</td>\n",
       "      <td>Minny Don't Burn Chicken,Ready to burst . . .,...</td>\n",
       "      <td>Greetings again from the darkness. The film is...</td>\n",
       "    </tr>\n",
       "  </tbody>\n",
       "</table>\n",
       "<p>19 rows × 22 columns</p>\n",
       "</div>"
      ],
      "text/plain": [
       "     rank   movie_id                            title  year  \\\n",
       "0       1  tt0111161         The Shawshank Redemption  1994   \n",
       "11     12  tt0137523                       Fight Club  1999   \n",
       "17     18  tt0073486  One Flew Over the Cuckoo's Nest  1975   \n",
       "66     67  tt0169547                  American Beauty  1999   \n",
       "84     85  tt0180093              Requiem for a Dream  2000   \n",
       "87     88  tt8267604                        Capernaum  2018   \n",
       "93     94  tt2106476                         The Hunt  2012   \n",
       "98     99  tt0044741                            Ikiru  1952   \n",
       "113   114  tt1832382                     A Separation  2011   \n",
       "120   121  tt0040522                  Bicycle Thieves  1948   \n",
       "130   131  tt0042192                    All About Eve  1950   \n",
       "138   139  tt0469494              There Will Be Blood  2007   \n",
       "166   167  tt0117951                    Trainspotting  1996   \n",
       "170   171  tt1205489                      Gran Torino  2008   \n",
       "206   207  tt0046438                      Tokyo Story  1953   \n",
       "218   219  tt0074958                          Network  1976   \n",
       "223   224  tt0048473                  Pather Panchali  1955   \n",
       "232   233  tt0032551              The Grapes of Wrath  1940   \n",
       "246   247  tt1454029                         The Help  2011   \n",
       "\n",
       "                                     link imbd_votes  imbd_rating certificate  \\\n",
       "0    https://www.imdb.com/title/tt0111161  2,711,075          9.3           R   \n",
       "11   https://www.imdb.com/title/tt0137523  2,154,995          8.8           R   \n",
       "17   https://www.imdb.com/title/tt0073486  1,017,354          8.7         18+   \n",
       "66   https://www.imdb.com/title/tt0169547  1,164,109          8.4           R   \n",
       "84   https://www.imdb.com/title/tt0180093    852,453          8.3     Unrated   \n",
       "87   https://www.imdb.com/title/tt8267604     92,871          8.4           R   \n",
       "93   https://www.imdb.com/title/tt2106476    336,241          8.3           R   \n",
       "98   https://www.imdb.com/title/tt0044741     80,354          8.3   Not Rated   \n",
       "113  https://www.imdb.com/title/tt1832382    247,485          8.3       PG-13   \n",
       "120  https://www.imdb.com/title/tt0040522    165,771          8.3   Not Rated   \n",
       "130  https://www.imdb.com/title/tt0042192    132,775          8.2      Passed   \n",
       "138  https://www.imdb.com/title/tt0469494    595,129          8.2           R   \n",
       "166  https://www.imdb.com/title/tt0117951    694,832          8.1           R   \n",
       "170  https://www.imdb.com/title/tt1205489    783,124          8.1           R   \n",
       "206  https://www.imdb.com/title/tt0046438     63,208          8.2   Not Rated   \n",
       "218  https://www.imdb.com/title/tt0074958    161,819          8.1           R   \n",
       "223  https://www.imdb.com/title/tt0048473     34,328          8.3   Not Rated   \n",
       "232  https://www.imdb.com/title/tt0032551     95,146          8.1      Passed   \n",
       "246  https://www.imdb.com/title/tt1454029    466,011          8.1       PG-13   \n",
       "\n",
       "    duration  genre  ... director_id         director_name  \\\n",
       "0     2h 22m  Drama  ...   nm0001104        Frank Darabont   \n",
       "11    2h 19m  Drama  ...   nm0000399         David Fincher   \n",
       "17    2h 13m  Drama  ...   nm0001232          Milos Forman   \n",
       "66     2h 2m  Drama  ...   nm0005222            Sam Mendes   \n",
       "84    1h 42m  Drama  ...   nm0004716      Darren Aronofsky   \n",
       "87     2h 6m  Drama  ...   nm1701024         Nadine Labaki   \n",
       "93    1h 55m  Drama  ...   nm0899121     Thomas Vinterberg   \n",
       "98    2h 23m  Drama  ...   nm0000041        Akira Kurosawa   \n",
       "113    2h 3m  Drama  ...   nm1410815        Asghar Farhadi   \n",
       "120   1h 29m  Drama  ...   nm0001120      Vittorio De Sica   \n",
       "130   2h 18m  Drama  ...   nm0000581  Joseph L. Mankiewicz   \n",
       "138   2h 38m  Drama  ...   nm0000759  Paul Thomas Anderson   \n",
       "166   1h 33m  Drama  ...   nm0000965           Danny Boyle   \n",
       "170   1h 56m  Drama  ...   nm0000142        Clint Eastwood   \n",
       "206   2h 16m  Drama  ...   nm0654868          Yasujirô Ozu   \n",
       "218    2h 1m  Drama  ...   nm0001486          Sidney Lumet   \n",
       "223    2h 5m  Drama  ...   nm0006249          Satyajit Ray   \n",
       "232    2h 9m  Drama  ...   nm0000406             John Ford   \n",
       "246   2h 26m  Drama  ...   nm0853238           Tate Taylor   \n",
       "\n",
       "                                             writer_id  \\\n",
       "0                                  nm0000175,nm0001104   \n",
       "11                                 nm0657333,nm0880243   \n",
       "17   tt0073486,nm0369142,nm0325743,nm0450181,tt0073486   \n",
       "66                                           nm0050332   \n",
       "84                                 nm0782968,nm0004716   \n",
       "87   tt8267604,nm1701024,nm2764802,nm9878616,tt8267604   \n",
       "93                                 nm0899121,nm2105585   \n",
       "98                       nm0000041,nm0368074,nm0644823   \n",
       "113                                          nm1410815   \n",
       "120  tt0040522,nm0953790,nm0059030,nm0080755,tt0040522   \n",
       "130                                nm0000581,nm0650581   \n",
       "138                                nm0000759,nm0801737   \n",
       "166                                nm0920543,nm0388076   \n",
       "170                                nm1010405,nm3164738   \n",
       "206                                nm0633792,nm0654868   \n",
       "218                                          nm0154665   \n",
       "223                                nm0051808,nm0006249   \n",
       "232                                nm0425913,nm0825705   \n",
       "246                                nm0853238,nm3543826   \n",
       "\n",
       "                                           writer_name  \\\n",
       "0                          Stephen King,Frank Darabont   \n",
       "11                            Chuck Palahniuk,Jim Uhls   \n",
       "17       Writers,Lawrence Hauben,Bo Goldman,Ken Kesey,   \n",
       "66                                           Alan Ball   \n",
       "84                   Hubert Selby Jr.,Darren Aronofsky   \n",
       "87   Writers,Nadine Labaki,Jihad Hojeily,Michelle K...   \n",
       "93                   Thomas Vinterberg,Tobias Lindholm   \n",
       "98        Akira Kurosawa,Shinobu Hashimoto,Hideo Oguni   \n",
       "113                                     Asghar Farhadi   \n",
       "120  Writers,Cesare Zavattini,Luigi Bartolini,Orest...   \n",
       "130                      Joseph L. Mankiewicz,Mary Orr   \n",
       "138                Paul Thomas Anderson,Upton Sinclair   \n",
       "166                            Irvine Welsh,John Hodge   \n",
       "170                         Nick Schenk,Dave Johannson   \n",
       "206                             Kôgo Noda,Yasujirô Ozu   \n",
       "218                                    Paddy Chayefsky   \n",
       "223          Bibhutibhushan Bandyopadhyay,Satyajit Ray   \n",
       "232                    Nunnally Johnson,John Steinbeck   \n",
       "246                       Tate Taylor,Kathryn Stockett   \n",
       "\n",
       "                                             storyline  \\\n",
       "0    Over the course of several years, two convicts...   \n",
       "11   An insomniac office worker and a devil-may-car...   \n",
       "17   In the Fall of 1963, a Korean War veteran and ...   \n",
       "66   A sexually frustrated suburban father has a mi...   \n",
       "84   The drug-induced utopias of four Coney Island ...   \n",
       "87   While serving a five-year sentence for a viole...   \n",
       "93   A teacher lives a lonely life, all the while s...   \n",
       "98   A bureaucrat tries to find meaning in his life...   \n",
       "113  A married couple are faced with a difficult de...   \n",
       "120  In post-war Italy, a working-class man's bicyc...   \n",
       "130  A seemingly timid but secretly ruthless ingénu...   \n",
       "138  A story of family, religion, hatred, oil and m...   \n",
       "166  Renton, deeply immersed in the Edinburgh drug ...   \n",
       "170  Disgruntled Korean War veteran Walt Kowalski s...   \n",
       "206  An old couple visit their children and grandch...   \n",
       "218  A television network cynically exploits a dera...   \n",
       "223  Impoverished priest Harihar Ray, dreaming of a...   \n",
       "232  An Oklahoma family, driven off their farm by t...   \n",
       "246  An aspiring author during the civil rights mov...   \n",
       "\n",
       "                                               user_id  \\\n",
       "0    ur16161013,ur15311310,ur0265899,ur16117882,ur1...   \n",
       "11   ur113529171,ur2860723,ur0482513,ur15794099,ur2...   \n",
       "17   ur4409266,ur3728510,ur2093818,ur3922673,ur8949...   \n",
       "66   ur2354731,ur0476267,ur1293485,ur0455949,ur0363...   \n",
       "84   ur119249824,ur2467618,ur1002035,ur1425588,ur10...   \n",
       "87   ur87850731,ur2467618,ur17825945,ur60343557,ur2...   \n",
       "93   ur0278527,ur22668817,ur0453068,ur2467618,ur344...   \n",
       "98   ur1559834,ur0453068,ur2248099,ur0278527,ur4888...   \n",
       "113  ur2488512,ur2152472,ur1419266,ur20315186,ur122...   \n",
       "120  ur0688559,ur0453068,ur1282070,ur2339662,ur2488...   \n",
       "130  ur2488512,ur20552756,ur12596887,ur2420383,ur01...   \n",
       "138  ur16117882,ur0482513,ur19117722,ur55517503,ur4...   \n",
       "166  ur0278527,ur1002035,ur4569900,ur11842025,ur157...   \n",
       "170  ur11842025,ur80922659,ur1293485,ur0076091,ur95...   \n",
       "206  ur3608743,ur1098460,ur14908520,ur0491610,ur007...   \n",
       "218  ur0688559,ur0384847,ur9521536,ur0541468,ur2420...   \n",
       "223  ur0391152,ur1282070,ur0239428,ur5788055,ur4103...   \n",
       "232  ur2483625,ur0562732,ur4532636,ur2444068,ur4939...   \n",
       "246  ur0806494,ur1391596,ur24207576,ur2955724,ur221...   \n",
       "\n",
       "                                             user_name  \\\n",
       "0    hitchcockthelegend,Sleepin_Dragon,EyeDunno,ale...   \n",
       "11   Pukeonthestreet,grantss,Leofwine_draca,gogosch...   \n",
       "17   Wuchakk,pyrocitor,TBJCSKCNRRQTreviews,philip_v...   \n",
       "66   the-evil-cult,RueMorgue,Smells_Like_Cheese,Ant...   \n",
       "84   hwm-05554,planktonrules,bob the moo,Danfish,mi...   \n",
       "87   MrHeraclius,planktonrules,thesar-2,andrewestre...   \n",
       "93   Hitchcoc,FlashCallahan,Quinoa1984,planktonrule...   \n",
       "98   OttoVonB,Quinoa1984,The_Void,Hitchcoc,lee_eise...   \n",
       "113  claudio_carvalho,krisrox,stensson,Radu_A,Ramas...   \n",
       "120  tfrizzell,Quinoa1984,ItalianGerry,FilmOtaku,cl...   \n",
       "130  claudio_carvalho,TheLittleSongbird,JohnHowardR...   \n",
       "138  alexkolokotronis,Leofwine_draca,murtaza_mma,br...   \n",
       "166  Hitchcoc,bob the moo,Prismark10,ametaphysicals...   \n",
       "170  ametaphysicalshark,dk777,Smells_Like_Cheese,Ke...   \n",
       "206  EUyeshima,Galina_movie_fan,GyatsoLa,howard.sch...   \n",
       "218  tfrizzell,nycritic,dead47548,cchase,Lechuguill...   \n",
       "223  zetes,ItalianGerry,harry-76,briancham1994,Xsta...   \n",
       "232  bkoganbing,Anonymous_Maxine,evanston_dad,inkbl...   \n",
       "246  ferguson-6,JohnDeSando,taylor_king-890-815491,...   \n",
       "\n",
       "                                             review_id  \\\n",
       "0    rw2284594,rw6606154,rw1221355,rw1822343,rw1288...   \n",
       "11   rw5476552,rw3001234,rw3504332,rw2923012,rw2251...   \n",
       "17   rw2692389,rw0998871,rw0143219,rw0143229,rw4245...   \n",
       "66   rw0593815,rw0591850,rw0592440,rw0592084,rw0592...   \n",
       "84   rw6065804,rw3530827,rw0944395,rw0611000,rw5957...   \n",
       "87   rw5480034,rw5928544,rw6022577,rw4461566,rw4991...   \n",
       "93   rw2951920,rw2917732,rw3242626,rw2944654,rw2715...   \n",
       "98   rw0047035,rw0047044,rw0979541,rw2139951,rw3631...   \n",
       "113  rw2548767,rw2482803,rw2501181,rw2386488,rw2539...   \n",
       "120  rw0038353,rw0038352,rw0038368,rw0038374,rw2225...   \n",
       "130  rw1195687,rw2076000,rw3793117,rw2210508,rw0041...   \n",
       "138  rw1840254,rw2580474,rw2133941,rw7817140,rw1859...   \n",
       "166  rw5261062,rw0398029,rw3602356,rw1838512,rw4190...   \n",
       "170  rw1990728,rw6510512,rw2041497,rw1989879,rw1990...   \n",
       "206  rw1237040,rw0050722,rw1633160,rw0050710,rw0050...   \n",
       "218  rw0148846,rw1026099,rw1796611,rw1160445,rw2103...   \n",
       "223  rw0055920,rw1458890,rw0055915,rw8270909,rw7391...   \n",
       "232  rw1487672,rw0021724,rw1288247,rw4131945,rw1649...   \n",
       "246  rw2473566,rw2472337,rw2472299,rw2697863,rw2488...   \n",
       "\n",
       "                                          review_title  \\\n",
       "0    Some birds aren't meant to be caged.,An incred...   \n",
       "11   A great movie you can watch again and again,Su...   \n",
       "17   The spirit of freedom vs. the spirit of legal-...   \n",
       "66   Entertaining and Thought-Provoking.,An Oscar w...   \n",
       "84   Great movie, I hated every minute of it,A visu...   \n",
       "87   Capernaum,Well made but very difficult to watc...   \n",
       "93   Once Again: The Children's Hour,He doesn't hav...   \n",
       "98   \"Only when he learned he would die did he star...   \n",
       "113  Mankind Is Flawed,Do yourself a favor - make s...   \n",
       "120  Quiet Desperation---Italian Style.,Another one...   \n",
       "130  A Magnificent Timeless Tale of Ambition, Manip...   \n",
       "138  The Truth Hurts,Excellent, gutsy filmmaking,Th...   \n",
       "166  Now I See Why,Hilarious, imaginative and very ...   \n",
       "170  Yet another Eastwood gem,Gran Torino,Clint's b...   \n",
       "206  Ozu's Quietly Brilliant Masterpiece Deserves Y...   \n",
       "218  It Is More Than a Film, It Is Like a Crystal B...   \n",
       "223  Absolutely Perfect. One of the best films ever...   \n",
       "232  Economic Dislocation,John Ford's stark portray...   \n",
       "246  Minny Don't Burn Chicken,Ready to burst . . .,...   \n",
       "\n",
       "                                        review_content  \n",
       "0    The Shawshank Redemption is written and direct...  \n",
       "11   Because you'll probably be confused the first ...  \n",
       "17   Set in the early 60s, the story involves R.P. ...  \n",
       "66   Of the 250+ films I've seen and rated on IMDb,...  \n",
       "84   This movie is about how drugs can affect your ...  \n",
       "87   Zain Al Rafeea is a terrific revelation in thi...  \n",
       "93   Having worked as a teacher for some forty year...  \n",
       "98   Ikiru (\"to live\")is a Kurosawa film devoid of ...  \n",
       "113  In Tehran, the teacher Simin (Leila Hatami) ha...  \n",
       "120  In post-World War II Italy poverty is a dire r...  \n",
       "130  The ambitious Eve Harrington (Anne Baxter) get...  \n",
       "138  People did not like this movie for a simple re...  \n",
       "166  I'm an old guy. I'm also a movie fan with an o...  \n",
       "170  I feel like I should let everyone reading this...  \n",
       "206  I think this movie is amazing for reasons I wa...  \n",
       "218  \"Network\". If there was ever a film that fores...  \n",
       "223  It is a little known fact that India produces ...  \n",
       "232  John Ford's film of John Steinbeck's novel has...  \n",
       "246  Greetings again from the darkness. The film is...  \n",
       "\n",
       "[19 rows x 22 columns]"
      ]
     },
     "execution_count": 35,
     "metadata": {},
     "output_type": "execute_result"
    }
   ],
   "source": [
    "df[df['genre'] == 'Drama']"
   ]
  },
  {
   "cell_type": "code",
   "execution_count": null,
   "id": "a03f4e6d",
   "metadata": {},
   "outputs": [],
   "source": []
  }
 ],
 "metadata": {
  "kernelspec": {
   "display_name": "Python 3 (ipykernel)",
   "language": "python",
   "name": "python3"
  },
  "language_info": {
   "codemirror_mode": {
    "name": "ipython",
    "version": 3
   },
   "file_extension": ".py",
   "mimetype": "text/x-python",
   "name": "python",
   "nbconvert_exporter": "python",
   "pygments_lexer": "ipython3",
   "version": "3.9.13"
  }
 },
 "nbformat": 4,
 "nbformat_minor": 5
}
